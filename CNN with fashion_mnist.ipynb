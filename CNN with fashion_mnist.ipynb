{
 "cells": [
  {
   "cell_type": "code",
   "execution_count": 1,
   "metadata": {},
   "outputs": [],
   "source": [
    "import tensorflow as tf\n",
    "from tensorflow.keras.models import Model\n",
    "from tensorflow.keras.layers import Input, Dense, Conv2D, Flatten, Dropout\n",
    "from tensorflow.keras.datasets import fashion_mnist\n",
    "import numpy as np\n",
    "import matplotlib.pyplot as plt"
   ]
  },
  {
   "cell_type": "code",
   "execution_count": 2,
   "metadata": {},
   "outputs": [],
   "source": [
    "(train_x, train_y), (test_x, test_y) = fashion_mnist.load_data()"
   ]
  },
  {
   "cell_type": "code",
   "execution_count": 3,
   "metadata": {},
   "outputs": [
    {
     "data": {
      "text/plain": [
       "(60000, 28, 28)"
      ]
     },
     "execution_count": 3,
     "metadata": {},
     "output_type": "execute_result"
    }
   ],
   "source": [
    "train_x.shape"
   ]
  },
  {
   "cell_type": "code",
   "execution_count": 4,
   "metadata": {},
   "outputs": [],
   "source": [
    "train_x = np.expand_dims(train_x, -1)\n",
    "test_x = np.expand_dims(test_x, -1)"
   ]
  },
  {
   "cell_type": "code",
   "execution_count": 5,
   "metadata": {},
   "outputs": [],
   "source": [
    "k = len(set(train_y))"
   ]
  },
  {
   "cell_type": "code",
   "execution_count": 6,
   "metadata": {},
   "outputs": [],
   "source": [
    "i = Input(shape = train_x[0].shape)\n",
    "x = Conv2D(32, (3, 3), activation = 'relu', strides = 2)(i)\n",
    "x = Conv2D(64, (3, 3), activation = 'relu', strides = 2)(x)\n",
    "x = Conv2D(128, (3, 3), activation = 'relu', strides = 2)(x)\n",
    "x = Flatten()(x)\n",
    "x = Dropout(0.2)(x)\n",
    "x = Dense(512, activation = 'relu')(x)\n",
    "x = Dropout(0.2)(x)\n",
    "x = Dense(k, activation = 'softmax')(x)"
   ]
  },
  {
   "cell_type": "code",
   "execution_count": 7,
   "metadata": {},
   "outputs": [],
   "source": [
    "model = Model(i, x)"
   ]
  },
  {
   "cell_type": "code",
   "execution_count": 8,
   "metadata": {},
   "outputs": [],
   "source": [
    "model.compile(optimizer = 'adam',\n",
    "              loss = 'sparse_categorical_crossentropy',\n",
    "              metrics = ['accuracy'])"
   ]
  },
  {
   "cell_type": "code",
   "execution_count": 9,
   "metadata": {},
   "outputs": [
    {
     "name": "stdout",
     "output_type": "stream",
     "text": [
      "Train on 60000 samples, validate on 10000 samples\n",
      "Epoch 1/20\n",
      "60000/60000 [==============================] - 32s 539us/sample - loss: 0.5381 - accuracy: 0.8065 - val_loss: 0.4253 - val_accuracy: 0.8419\n",
      "Epoch 2/20\n",
      "60000/60000 [==============================] - 31s 524us/sample - loss: 0.3921 - accuracy: 0.8540 - val_loss: 0.3894 - val_accuracy: 0.8527\n",
      "Epoch 3/20\n",
      "60000/60000 [==============================] - 34s 571us/sample - loss: 0.3561 - accuracy: 0.8673 - val_loss: 0.3544 - val_accuracy: 0.8667\n",
      "Epoch 4/20\n",
      "60000/60000 [==============================] - 32s 536us/sample - loss: 0.3344 - accuracy: 0.8750 - val_loss: 0.3595 - val_accuracy: 0.8640\n",
      "Epoch 5/20\n",
      "60000/60000 [==============================] - 32s 532us/sample - loss: 0.3163 - accuracy: 0.8809 - val_loss: 0.3779 - val_accuracy: 0.8613\n",
      "Epoch 6/20\n",
      "60000/60000 [==============================] - 31s 523us/sample - loss: 0.3044 - accuracy: 0.8846 - val_loss: 0.3737 - val_accuracy: 0.8687\n",
      "Epoch 7/20\n",
      "60000/60000 [==============================] - 33s 544us/sample - loss: 0.2866 - accuracy: 0.8921 - val_loss: 0.3640 - val_accuracy: 0.8659\n",
      "Epoch 8/20\n",
      "60000/60000 [==============================] - 35s 588us/sample - loss: 0.2846 - accuracy: 0.8926 - val_loss: 0.3612 - val_accuracy: 0.8729\n",
      "Epoch 9/20\n",
      "60000/60000 [==============================] - 34s 568us/sample - loss: 0.2717 - accuracy: 0.8962 - val_loss: 0.3588 - val_accuracy: 0.8755\n",
      "Epoch 10/20\n",
      "60000/60000 [==============================] - 36s 592us/sample - loss: 0.2631 - accuracy: 0.9007 - val_loss: 0.3739 - val_accuracy: 0.8724\n",
      "Epoch 11/20\n",
      "60000/60000 [==============================] - 34s 563us/sample - loss: 0.2649 - accuracy: 0.9010 - val_loss: 0.3811 - val_accuracy: 0.8714\n",
      "Epoch 12/20\n",
      "60000/60000 [==============================] - 34s 565us/sample - loss: 0.2596 - accuracy: 0.9030 - val_loss: 0.3936 - val_accuracy: 0.8682\n",
      "Epoch 13/20\n",
      "60000/60000 [==============================] - 35s 579us/sample - loss: 0.2515 - accuracy: 0.9049 - val_loss: 0.3947 - val_accuracy: 0.8738\n",
      "Epoch 14/20\n",
      "60000/60000 [==============================] - 35s 581us/sample - loss: 0.2476 - accuracy: 0.9077 - val_loss: 0.3737 - val_accuracy: 0.8749\n",
      "Epoch 15/20\n",
      "60000/60000 [==============================] - 35s 577us/sample - loss: 0.2464 - accuracy: 0.9081 - val_loss: 0.4192 - val_accuracy: 0.8781\n",
      "Epoch 16/20\n",
      "60000/60000 [==============================] - 36s 604us/sample - loss: 0.2431 - accuracy: 0.9098 - val_loss: 0.4037 - val_accuracy: 0.8755\n",
      "Epoch 17/20\n",
      "60000/60000 [==============================] - 36s 596us/sample - loss: 0.2455 - accuracy: 0.9095 - val_loss: 0.3861 - val_accuracy: 0.8762\n",
      "Epoch 18/20\n",
      "60000/60000 [==============================] - 37s 621us/sample - loss: 0.2336 - accuracy: 0.9123 - val_loss: 0.3934 - val_accuracy: 0.8695\n",
      "Epoch 19/20\n",
      "60000/60000 [==============================] - 33s 549us/sample - loss: 0.2308 - accuracy: 0.9151 - val_loss: 0.4167 - val_accuracy: 0.8786\n",
      "Epoch 20/20\n",
      "60000/60000 [==============================] - 35s 577us/sample - loss: 0.2367 - accuracy: 0.9129 - val_loss: 0.4415 - val_accuracy: 0.8655\n"
     ]
    }
   ],
   "source": [
    "r = model.fit(train_x, train_y, epochs = 20, validation_data = (test_x, test_y))"
   ]
  },
  {
   "cell_type": "code",
   "execution_count": 10,
   "metadata": {},
   "outputs": [
    {
     "data": {
      "text/plain": [
       "<matplotlib.legend.Legend at 0x2236258cb48>"
      ]
     },
     "execution_count": 10,
     "metadata": {},
     "output_type": "execute_result"
    },
    {
     "data": {
      "image/png": "[encoded data removed]",
      "text/plain": [
       "<Figure size 432x288 with 1 Axes>"
      ]
     },
     "metadata": {
      "needs_background": "light"
     },
     "output_type": "display_data"
    }
   ],
   "source": [
    "plt.plot(r.history['loss'], label = 'loss')\n",
    "plt.plot(r.history['val_loss'], label = 'val_loss')\n",
    "plt.plot(r.history['accuracy'], label = 'accuracy')\n",
    "plt.plot(r.history['val_accuracy'], label = 'val_accuracy')\n",
    "plt.legend()"
   ]
  },
  {
   "cell_type": "code",
   "execution_count": null,
   "metadata": {},
   "outputs": [],
   "source": []
  }
 ],
 "metadata": {
  "kernelspec": {
   "display_name": "Python 3",
   "language": "python",
   "name": "python3"
  },
  "language_info": {
   "codemirror_mode": {
    "name": "ipython",
    "version": 3
   },
   "file_extension": ".py",
   "mimetype": "text/x-python",
   "name": "python",
   "nbconvert_exporter": "python",
   "pygments_lexer": "ipython3",
   "version": "3.7.4"
  }
 },
 "nbformat": 4,
 "nbformat_minor": 2
}
