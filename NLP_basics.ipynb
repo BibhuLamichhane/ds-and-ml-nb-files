{
  "nbformat": 4,
  "nbformat_minor": 0,
  "metadata": {
    "colab": {
      "name": "NLP basics.ipynb",
      "provenance": [],
      "collapsed_sections": []
    },
    "kernelspec": {
      "name": "python3",
      "display_name": "Python 3"
    },
    "accelerator": "GPU"
  },
  "cells": [
    {
      "cell_type": "code",
      "metadata": {
        "id": "frY5iaBmf5v-",
        "colab_type": "code",
        "colab": {}
      },
      "source": [
        "import tensorflow as tf\n",
        "import numpy as np\n",
        "import matplotlib.pyplot as plt\n",
        "from tensorflow.keras.preprocessing.text import Tokenizer as token\n",
        "from tensorflow.keras.preprocessing.sequence import pad_sequences as ps\n"
      ],
      "execution_count": 0,
      "outputs": []
    },
    {
      "cell_type": "code",
      "metadata": {
        "id": "PpT1rbNqg4nh",
        "colab_type": "code",
        "colab": {}
      },
      "source": [
        "sentences = [\n",
        "    'Lorem ipsum dolor sit amet',\n",
        "    'Lorem consectetur ipsum elit',\n",
        "    'Lorem integer nec odio. Praesent'\n",
        "]"
      ],
      "execution_count": 0,
      "outputs": []
    },
    {
      "cell_type": "code",
      "metadata": {
        "id": "__Kloey1laNV",
        "colab_type": "code",
        "colab": {}
      },
      "source": [
        "max_words = 20000\n",
        "tokens = token(num_words = max_words)\n",
        "tokens.fit_on_texts(sentences)\n",
        "s = tokens.texts_to_sequences(sentences)"
      ],
      "execution_count": 0,
      "outputs": []
    },
    {
      "cell_type": "code",
      "metadata": {
        "id": "GBH1x5Z9mxS9",
        "colab_type": "code",
        "colab": {
          "base_uri": "https://localhost:8080/",
          "height": 35
        },
        "outputId": "845bb934-21d4-4c20-ec34-809dac978b9e"
      },
      "source": [
        "s "
      ],
      "execution_count": 7,
      "outputs": [
        {
          "output_type": "execute_result",
          "data": {
            "text/plain": [
              "[[1, 2, 3, 4, 5], [1, 6, 2, 7], [1, 8, 9, 10, 11]]"
            ]
          },
          "metadata": {
            "tags": []
          },
          "execution_count": 7
        }
      ]
    },
    {
      "cell_type": "code",
      "metadata": {
        "id": "biVxo7HynDOu",
        "colab_type": "code",
        "colab": {
          "base_uri": "https://localhost:8080/",
          "height": 208
        },
        "outputId": "2579bc96-3203-46f5-806a-24f72e0ae894"
      },
      "source": [
        "tokens.word_index"
      ],
      "execution_count": 8,
      "outputs": [
        {
          "output_type": "execute_result",
          "data": {
            "text/plain": [
              "{'amet': 5,\n",
              " 'consectetur': 6,\n",
              " 'dolor': 3,\n",
              " 'elit': 7,\n",
              " 'integer': 8,\n",
              " 'ipsum': 2,\n",
              " 'lorem': 1,\n",
              " 'nec': 9,\n",
              " 'odio': 10,\n",
              " 'praesent': 11,\n",
              " 'sit': 4}"
            ]
          },
          "metadata": {
            "tags": []
          },
          "execution_count": 8
        }
      ]
    },
    {
      "cell_type": "code",
      "metadata": {
        "id": "Tu273ghvnQUU",
        "colab_type": "code",
        "colab": {
          "base_uri": "https://localhost:8080/",
          "height": 69
        },
        "outputId": "b478918d-9b63-419a-e769-9d26b215c0de"
      },
      "source": [
        "data = ps(s, padding = 'pre')\n",
        "data"
      ],
      "execution_count": 9,
      "outputs": [
        {
          "output_type": "execute_result",
          "data": {
            "text/plain": [
              "array([[ 1,  2,  3,  4,  5],\n",
              "       [ 0,  1,  6,  2,  7],\n",
              "       [ 1,  8,  9, 10, 11]], dtype=int32)"
            ]
          },
          "metadata": {
            "tags": []
          },
          "execution_count": 9
        }
      ]
    },
    {
      "cell_type": "code",
      "metadata": {
        "id": "EKW_Vqevnsr2",
        "colab_type": "code",
        "colab": {
          "base_uri": "https://localhost:8080/",
          "height": 69
        },
        "outputId": "47f75c9c-7121-4e7b-c232-46d408a84eed"
      },
      "source": [
        "data = ps(s, padding = 'post')\n",
        "data"
      ],
      "execution_count": 11,
      "outputs": [
        {
          "output_type": "execute_result",
          "data": {
            "text/plain": [
              "array([[ 1,  2,  3,  4,  5],\n",
              "       [ 1,  6,  2,  7,  0],\n",
              "       [ 1,  8,  9, 10, 11]], dtype=int32)"
            ]
          },
          "metadata": {
            "tags": []
          },
          "execution_count": 11
        }
      ]
    },
    {
      "cell_type": "code",
      "metadata": {
        "id": "reMQXLYznwUG",
        "colab_type": "code",
        "colab": {}
      },
      "source": [
        ""
      ],
      "execution_count": 0,
      "outputs": []
    }
  ]
}