{
 "cells": [
  {
   "cell_type": "code",
   "execution_count": 1,
   "metadata": {},
   "outputs": [],
   "source": [
    "import tensorflow as tf\n",
    "import sklearn\n",
    "from sklearn.datasets import load_breast_cancer\n",
    "from sklearn.model_selection import train_test_split\n",
    "from sklearn.preprocessing import StandardScaler\n",
    "import matplotlib.pyplot as plt\n",
    "import numpy as np"
   ]
  },
  {
   "cell_type": "code",
   "execution_count": 2,
   "metadata": {},
   "outputs": [],
   "source": [
    "data = load_breast_cancer()"
   ]
  },
  {
   "cell_type": "code",
   "execution_count": 32,
   "metadata": {},
   "outputs": [
    {
     "data": {
      "text/plain": [
       "dict_keys(['data', 'target', 'target_names', 'DESCR', 'feature_names', 'filename'])"
      ]
     },
     "execution_count": 32,
     "metadata": {},
     "output_type": "execute_result"
    }
   ],
   "source": [
    "data.keys()"
   ]
  },
  {
   "cell_type": "code",
   "execution_count": 4,
   "metadata": {},
   "outputs": [
    {
     "data": {
      "text/plain": [
       "(569, 30)"
      ]
     },
     "execution_count": 4,
     "metadata": {},
     "output_type": "execute_result"
    }
   ],
   "source": [
    "data.data.shape"
   ]
  },
  {
   "cell_type": "code",
   "execution_count": 5,
   "metadata": {},
   "outputs": [],
   "source": [
    "x = data.data\n",
    "y = data.target"
   ]
  },
  {
   "cell_type": "code",
   "execution_count": 6,
   "metadata": {},
   "outputs": [],
   "source": [
    "x_train, x_test, y_train, y_test = train_test_split(x, y, test_size = 0.3)"
   ]
  },
  {
   "cell_type": "code",
   "execution_count": 7,
   "metadata": {},
   "outputs": [],
   "source": [
    "# scaling the data so that the data is between 0 and 1\n",
    "# also known as normalization in stats"
   ]
  },
  {
   "cell_type": "code",
   "execution_count": 8,
   "metadata": {},
   "outputs": [],
   "source": [
    "scaler = StandardScaler()"
   ]
  },
  {
   "cell_type": "code",
   "execution_count": 9,
   "metadata": {},
   "outputs": [],
   "source": [
    "x_train = scaler.fit_transform(x_train)\n",
    "x_test = scaler.transform(x_test)"
   ]
  },
  {
   "cell_type": "code",
   "execution_count": 10,
   "metadata": {},
   "outputs": [],
   "source": [
    "N, D = x_train.shape"
   ]
  },
  {
   "cell_type": "code",
   "execution_count": 11,
   "metadata": {},
   "outputs": [],
   "source": [
    "# building a model using keras with tensorflow backend"
   ]
  },
  {
   "cell_type": "code",
   "execution_count": 12,
   "metadata": {},
   "outputs": [],
   "source": [
    "model = tf.keras.models.Sequential()"
   ]
  },
  {
   "cell_type": "code",
   "execution_count": 13,
   "metadata": {},
   "outputs": [],
   "source": [
    "model.add(tf.keras.layers.Dense(1, input_shape = (D,), activation = 'sigmoid'))"
   ]
  },
  {
   "cell_type": "code",
   "execution_count": 14,
   "metadata": {},
   "outputs": [],
   "source": [
    "# now adding optimizer, metrics and loss function to our model"
   ]
  },
  {
   "cell_type": "code",
   "execution_count": 15,
   "metadata": {},
   "outputs": [],
   "source": [
    "model.compile(optimizer = 'adam',\n",
    "             loss = 'binary_crossentropy',\n",
    "             metrics = ['accuracy'])"
   ]
  },
  {
   "cell_type": "code",
   "execution_count": 16,
   "metadata": {},
   "outputs": [
    {
     "name": "stdout",
     "output_type": "stream",
     "text": [
      "Train on 398 samples, validate on 171 samples\n",
      "Epoch 1/100\n",
      "398/398 [==============================] - 0s 839us/sample - loss: 0.9187 - accuracy: 0.4648 - val_loss: 0.7364 - val_accuracy: 0.5263\n",
      "Epoch 2/100\n",
      "398/398 [==============================] - 0s 80us/sample - loss: 0.8140 - accuracy: 0.5251 - val_loss: 0.6480 - val_accuracy: 0.6082\n",
      "Epoch 3/100\n",
      "398/398 [==============================] - 0s 110us/sample - loss: 0.7191 - accuracy: 0.5930 - val_loss: 0.5722 - val_accuracy: 0.6959\n",
      "Epoch 4/100\n",
      "398/398 [==============================] - 0s 95us/sample - loss: 0.6386 - accuracy: 0.6608 - val_loss: 0.5087 - val_accuracy: 0.7778\n",
      "Epoch 5/100\n",
      "398/398 [==============================] - 0s 108us/sample - loss: 0.5693 - accuracy: 0.7286 - val_loss: 0.4566 - val_accuracy: 0.8304\n",
      "Epoch 6/100\n",
      "398/398 [==============================] - 0s 105us/sample - loss: 0.5121 - accuracy: 0.7940 - val_loss: 0.4136 - val_accuracy: 0.8772\n",
      "Epoch 7/100\n",
      "398/398 [==============================] - 0s 100us/sample - loss: 0.4648 - accuracy: 0.8090 - val_loss: 0.3777 - val_accuracy: 0.8947\n",
      "Epoch 8/100\n",
      "398/398 [==============================] - 0s 100us/sample - loss: 0.4245 - accuracy: 0.8417 - val_loss: 0.3482 - val_accuracy: 0.9064\n",
      "Epoch 9/100\n",
      "398/398 [==============================] - 0s 98us/sample - loss: 0.3909 - accuracy: 0.8643 - val_loss: 0.3237 - val_accuracy: 0.9181\n",
      "Epoch 10/100\n",
      "398/398 [==============================] - 0s 105us/sample - loss: 0.3630 - accuracy: 0.8844 - val_loss: 0.3024 - val_accuracy: 0.9357\n",
      "Epoch 11/100\n",
      "398/398 [==============================] - 0s 98us/sample - loss: 0.3393 - accuracy: 0.9070 - val_loss: 0.2844 - val_accuracy: 0.9474\n",
      "Epoch 12/100\n",
      "398/398 [==============================] - 0s 110us/sample - loss: 0.3194 - accuracy: 0.9121 - val_loss: 0.2688 - val_accuracy: 0.9474\n",
      "Epoch 13/100\n",
      "398/398 [==============================] - 0s 118us/sample - loss: 0.3023 - accuracy: 0.9146 - val_loss: 0.2550 - val_accuracy: 0.9591\n",
      "Epoch 14/100\n",
      "398/398 [==============================] - 0s 100us/sample - loss: 0.2872 - accuracy: 0.9246 - val_loss: 0.2433 - val_accuracy: 0.9532\n",
      "Epoch 15/100\n",
      "398/398 [==============================] - 0s 98us/sample - loss: 0.2742 - accuracy: 0.9372 - val_loss: 0.2331 - val_accuracy: 0.9532\n",
      "Epoch 16/100\n",
      "398/398 [==============================] - 0s 100us/sample - loss: 0.2631 - accuracy: 0.9447 - val_loss: 0.2237 - val_accuracy: 0.9532\n",
      "Epoch 17/100\n",
      "398/398 [==============================] - 0s 85us/sample - loss: 0.2529 - accuracy: 0.9447 - val_loss: 0.2152 - val_accuracy: 0.9649\n",
      "Epoch 18/100\n",
      "398/398 [==============================] - 0s 95us/sample - loss: 0.2436 - accuracy: 0.9447 - val_loss: 0.2076 - val_accuracy: 0.9649\n",
      "Epoch 19/100\n",
      "398/398 [==============================] - 0s 95us/sample - loss: 0.2355 - accuracy: 0.9472 - val_loss: 0.2007 - val_accuracy: 0.9708\n",
      "Epoch 20/100\n",
      "398/398 [==============================] - 0s 108us/sample - loss: 0.2281 - accuracy: 0.9472 - val_loss: 0.1945 - val_accuracy: 0.9708\n",
      "Epoch 21/100\n",
      "398/398 [==============================] - 0s 105us/sample - loss: 0.2213 - accuracy: 0.9472 - val_loss: 0.1887 - val_accuracy: 0.9708\n",
      "Epoch 22/100\n",
      "398/398 [==============================] - 0s 88us/sample - loss: 0.2150 - accuracy: 0.9523 - val_loss: 0.1833 - val_accuracy: 0.9708\n",
      "Epoch 23/100\n",
      "398/398 [==============================] - 0s 88us/sample - loss: 0.2094 - accuracy: 0.9598 - val_loss: 0.1783 - val_accuracy: 0.9708\n",
      "Epoch 24/100\n",
      "398/398 [==============================] - 0s 95us/sample - loss: 0.2041 - accuracy: 0.9648 - val_loss: 0.1737 - val_accuracy: 0.9708\n",
      "Epoch 25/100\n",
      "398/398 [==============================] - 0s 95us/sample - loss: 0.1992 - accuracy: 0.9648 - val_loss: 0.1694 - val_accuracy: 0.9825\n",
      "Epoch 26/100\n",
      "398/398 [==============================] - 0s 93us/sample - loss: 0.1945 - accuracy: 0.9648 - val_loss: 0.1654 - val_accuracy: 0.9825\n",
      "Epoch 27/100\n",
      "398/398 [==============================] - 0s 103us/sample - loss: 0.1903 - accuracy: 0.9648 - val_loss: 0.1615 - val_accuracy: 0.9766\n",
      "Epoch 28/100\n",
      "398/398 [==============================] - 0s 95us/sample - loss: 0.1862 - accuracy: 0.9648 - val_loss: 0.1580 - val_accuracy: 0.9766\n",
      "Epoch 29/100\n",
      "398/398 [==============================] - 0s 105us/sample - loss: 0.1824 - accuracy: 0.9648 - val_loss: 0.1546 - val_accuracy: 0.9766\n",
      "Epoch 30/100\n",
      "398/398 [==============================] - 0s 93us/sample - loss: 0.1788 - accuracy: 0.9673 - val_loss: 0.1515 - val_accuracy: 0.9766\n",
      "Epoch 31/100\n",
      "398/398 [==============================] - 0s 105us/sample - loss: 0.1755 - accuracy: 0.9673 - val_loss: 0.1485 - val_accuracy: 0.9766\n",
      "Epoch 32/100\n",
      "398/398 [==============================] - 0s 98us/sample - loss: 0.1724 - accuracy: 0.9673 - val_loss: 0.1457 - val_accuracy: 0.9766\n",
      "Epoch 33/100\n",
      "398/398 [==============================] - 0s 93us/sample - loss: 0.1694 - accuracy: 0.9673 - val_loss: 0.1430 - val_accuracy: 0.9766\n",
      "Epoch 34/100\n",
      "398/398 [==============================] - 0s 88us/sample - loss: 0.1666 - accuracy: 0.9673 - val_loss: 0.1405 - val_accuracy: 0.9766\n",
      "Epoch 35/100\n",
      "398/398 [==============================] - 0s 88us/sample - loss: 0.1639 - accuracy: 0.9673 - val_loss: 0.1381 - val_accuracy: 0.9766\n",
      "Epoch 36/100\n",
      "398/398 [==============================] - 0s 98us/sample - loss: 0.1614 - accuracy: 0.9673 - val_loss: 0.1358 - val_accuracy: 0.9766\n",
      "Epoch 37/100\n",
      "398/398 [==============================] - 0s 95us/sample - loss: 0.1588 - accuracy: 0.9673 - val_loss: 0.1336 - val_accuracy: 0.9766\n",
      "Epoch 38/100\n",
      "398/398 [==============================] - 0s 83us/sample - loss: 0.1566 - accuracy: 0.9673 - val_loss: 0.1315 - val_accuracy: 0.9708\n",
      "Epoch 39/100\n",
      "398/398 [==============================] - 0s 73us/sample - loss: 0.1543 - accuracy: 0.9673 - val_loss: 0.1295 - val_accuracy: 0.9649\n",
      "Epoch 40/100\n",
      "398/398 [==============================] - 0s 103us/sample - loss: 0.1521 - accuracy: 0.9673 - val_loss: 0.1275 - val_accuracy: 0.9649\n",
      "Epoch 41/100\n",
      "398/398 [==============================] - 0s 88us/sample - loss: 0.1501 - accuracy: 0.9673 - val_loss: 0.1257 - val_accuracy: 0.9649\n",
      "Epoch 42/100\n",
      "398/398 [==============================] - 0s 73us/sample - loss: 0.1481 - accuracy: 0.9673 - val_loss: 0.1239 - val_accuracy: 0.9649\n",
      "Epoch 43/100\n",
      "398/398 [==============================] - 0s 95us/sample - loss: 0.1463 - accuracy: 0.9673 - val_loss: 0.1223 - val_accuracy: 0.9649\n",
      "Epoch 44/100\n",
      "398/398 [==============================] - 0s 75us/sample - loss: 0.1445 - accuracy: 0.9673 - val_loss: 0.1206 - val_accuracy: 0.9649\n",
      "Epoch 45/100\n",
      "398/398 [==============================] - 0s 88us/sample - loss: 0.1428 - accuracy: 0.9698 - val_loss: 0.1191 - val_accuracy: 0.9649\n",
      "Epoch 46/100\n",
      "398/398 [==============================] - 0s 90us/sample - loss: 0.1411 - accuracy: 0.9698 - val_loss: 0.1176 - val_accuracy: 0.9649\n",
      "Epoch 47/100\n",
      "398/398 [==============================] - 0s 90us/sample - loss: 0.1395 - accuracy: 0.9698 - val_loss: 0.1161 - val_accuracy: 0.9649\n",
      "Epoch 48/100\n",
      "398/398 [==============================] - 0s 110us/sample - loss: 0.1380 - accuracy: 0.9724 - val_loss: 0.1148 - val_accuracy: 0.9708\n",
      "Epoch 49/100\n",
      "398/398 [==============================] - 0s 90us/sample - loss: 0.1366 - accuracy: 0.9724 - val_loss: 0.1134 - val_accuracy: 0.9708\n",
      "Epoch 50/100\n",
      "398/398 [==============================] - 0s 90us/sample - loss: 0.1352 - accuracy: 0.9724 - val_loss: 0.1121 - val_accuracy: 0.9708\n",
      "Epoch 51/100\n",
      "398/398 [==============================] - 0s 95us/sample - loss: 0.1338 - accuracy: 0.9724 - val_loss: 0.1109 - val_accuracy: 0.9708\n",
      "Epoch 52/100\n",
      "398/398 [==============================] - 0s 90us/sample - loss: 0.1325 - accuracy: 0.9724 - val_loss: 0.1097 - val_accuracy: 0.9708\n",
      "Epoch 53/100\n",
      "398/398 [==============================] - 0s 78us/sample - loss: 0.1312 - accuracy: 0.9724 - val_loss: 0.1085 - val_accuracy: 0.9708\n",
      "Epoch 54/100\n",
      "398/398 [==============================] - 0s 78us/sample - loss: 0.1299 - accuracy: 0.9724 - val_loss: 0.1074 - val_accuracy: 0.9708\n",
      "Epoch 55/100\n",
      "398/398 [==============================] - 0s 100us/sample - loss: 0.1288 - accuracy: 0.9724 - val_loss: 0.1063 - val_accuracy: 0.9708\n",
      "Epoch 56/100\n"
     ]
    },
    {
     "name": "stdout",
     "output_type": "stream",
     "text": [
      "398/398 [==============================] - 0s 80us/sample - loss: 0.1276 - accuracy: 0.9724 - val_loss: 0.1052 - val_accuracy: 0.9708\n",
      "Epoch 57/100\n",
      "398/398 [==============================] - 0s 88us/sample - loss: 0.1266 - accuracy: 0.9724 - val_loss: 0.1042 - val_accuracy: 0.9708\n",
      "Epoch 58/100\n",
      "398/398 [==============================] - 0s 88us/sample - loss: 0.1254 - accuracy: 0.9724 - val_loss: 0.1032 - val_accuracy: 0.9708\n",
      "Epoch 59/100\n",
      "398/398 [==============================] - 0s 100us/sample - loss: 0.1244 - accuracy: 0.9724 - val_loss: 0.1022 - val_accuracy: 0.9708\n",
      "Epoch 60/100\n",
      "398/398 [==============================] - 0s 105us/sample - loss: 0.1233 - accuracy: 0.9724 - val_loss: 0.1012 - val_accuracy: 0.9708\n",
      "Epoch 61/100\n",
      "398/398 [==============================] - 0s 98us/sample - loss: 0.1223 - accuracy: 0.9749 - val_loss: 0.1003 - val_accuracy: 0.9708\n",
      "Epoch 62/100\n",
      "398/398 [==============================] - 0s 75us/sample - loss: 0.1214 - accuracy: 0.9749 - val_loss: 0.0994 - val_accuracy: 0.9708\n",
      "Epoch 63/100\n",
      "398/398 [==============================] - 0s 65us/sample - loss: 0.1205 - accuracy: 0.9749 - val_loss: 0.0985 - val_accuracy: 0.9708\n",
      "Epoch 64/100\n",
      "398/398 [==============================] - 0s 78us/sample - loss: 0.1196 - accuracy: 0.9749 - val_loss: 0.0977 - val_accuracy: 0.9708\n",
      "Epoch 65/100\n",
      "398/398 [==============================] - 0s 75us/sample - loss: 0.1187 - accuracy: 0.9749 - val_loss: 0.0969 - val_accuracy: 0.9708\n",
      "Epoch 66/100\n",
      "398/398 [==============================] - 0s 85us/sample - loss: 0.1178 - accuracy: 0.9749 - val_loss: 0.0961 - val_accuracy: 0.9708\n",
      "Epoch 67/100\n",
      "398/398 [==============================] - 0s 83us/sample - loss: 0.1170 - accuracy: 0.9749 - val_loss: 0.0953 - val_accuracy: 0.9708\n",
      "Epoch 68/100\n",
      "398/398 [==============================] - 0s 88us/sample - loss: 0.1163 - accuracy: 0.9749 - val_loss: 0.0946 - val_accuracy: 0.9708\n",
      "Epoch 69/100\n",
      "398/398 [==============================] - 0s 70us/sample - loss: 0.1154 - accuracy: 0.9749 - val_loss: 0.0938 - val_accuracy: 0.9708\n",
      "Epoch 70/100\n",
      "398/398 [==============================] - 0s 78us/sample - loss: 0.1147 - accuracy: 0.9774 - val_loss: 0.0931 - val_accuracy: 0.9708\n",
      "Epoch 71/100\n",
      "398/398 [==============================] - 0s 85us/sample - loss: 0.1139 - accuracy: 0.9774 - val_loss: 0.0924 - val_accuracy: 0.9708\n",
      "Epoch 72/100\n",
      "398/398 [==============================] - 0s 80us/sample - loss: 0.1132 - accuracy: 0.9774 - val_loss: 0.0917 - val_accuracy: 0.9708\n",
      "Epoch 73/100\n",
      "398/398 [==============================] - 0s 78us/sample - loss: 0.1124 - accuracy: 0.9774 - val_loss: 0.0911 - val_accuracy: 0.9708\n",
      "Epoch 74/100\n",
      "398/398 [==============================] - 0s 83us/sample - loss: 0.1118 - accuracy: 0.9774 - val_loss: 0.0904 - val_accuracy: 0.9708\n",
      "Epoch 75/100\n",
      "398/398 [==============================] - 0s 85us/sample - loss: 0.1111 - accuracy: 0.9774 - val_loss: 0.0897 - val_accuracy: 0.9708\n",
      "Epoch 76/100\n",
      "398/398 [==============================] - 0s 78us/sample - loss: 0.1104 - accuracy: 0.9774 - val_loss: 0.0891 - val_accuracy: 0.9766\n",
      "Epoch 77/100\n",
      "398/398 [==============================] - 0s 78us/sample - loss: 0.1098 - accuracy: 0.9774 - val_loss: 0.0885 - val_accuracy: 0.9708\n",
      "Epoch 78/100\n",
      "398/398 [==============================] - 0s 85us/sample - loss: 0.1092 - accuracy: 0.9774 - val_loss: 0.0879 - val_accuracy: 0.9708\n",
      "Epoch 79/100\n",
      "398/398 [==============================] - 0s 78us/sample - loss: 0.1085 - accuracy: 0.9774 - val_loss: 0.0873 - val_accuracy: 0.9708\n",
      "Epoch 80/100\n",
      "398/398 [==============================] - 0s 88us/sample - loss: 0.1079 - accuracy: 0.9774 - val_loss: 0.0867 - val_accuracy: 0.9766\n",
      "Epoch 81/100\n",
      "398/398 [==============================] - 0s 95us/sample - loss: 0.1073 - accuracy: 0.9774 - val_loss: 0.0862 - val_accuracy: 0.9766\n",
      "Epoch 82/100\n",
      "398/398 [==============================] - 0s 100us/sample - loss: 0.1067 - accuracy: 0.9774 - val_loss: 0.0856 - val_accuracy: 0.9708\n",
      "Epoch 83/100\n",
      "398/398 [==============================] - 0s 68us/sample - loss: 0.1061 - accuracy: 0.9799 - val_loss: 0.0851 - val_accuracy: 0.9708\n",
      "Epoch 84/100\n",
      "398/398 [==============================] - 0s 88us/sample - loss: 0.1056 - accuracy: 0.9799 - val_loss: 0.0846 - val_accuracy: 0.9708\n",
      "Epoch 85/100\n",
      "398/398 [==============================] - 0s 80us/sample - loss: 0.1051 - accuracy: 0.9799 - val_loss: 0.0840 - val_accuracy: 0.9766\n",
      "Epoch 86/100\n",
      "398/398 [==============================] - 0s 85us/sample - loss: 0.1045 - accuracy: 0.9799 - val_loss: 0.0835 - val_accuracy: 0.9766\n",
      "Epoch 87/100\n",
      "398/398 [==============================] - 0s 83us/sample - loss: 0.1040 - accuracy: 0.9799 - val_loss: 0.0830 - val_accuracy: 0.9708\n",
      "Epoch 88/100\n",
      "398/398 [==============================] - 0s 80us/sample - loss: 0.1035 - accuracy: 0.9799 - val_loss: 0.0825 - val_accuracy: 0.9766\n",
      "Epoch 89/100\n",
      "398/398 [==============================] - 0s 80us/sample - loss: 0.1031 - accuracy: 0.9799 - val_loss: 0.0821 - val_accuracy: 0.9766\n",
      "Epoch 90/100\n",
      "398/398 [==============================] - 0s 83us/sample - loss: 0.1026 - accuracy: 0.9799 - val_loss: 0.0816 - val_accuracy: 0.9766\n",
      "Epoch 91/100\n",
      "398/398 [==============================] - 0s 78us/sample - loss: 0.1021 - accuracy: 0.9799 - val_loss: 0.0812 - val_accuracy: 0.9766\n",
      "Epoch 92/100\n",
      "398/398 [==============================] - 0s 73us/sample - loss: 0.1017 - accuracy: 0.9799 - val_loss: 0.0807 - val_accuracy: 0.9766\n",
      "Epoch 93/100\n",
      "398/398 [==============================] - 0s 105us/sample - loss: 0.1012 - accuracy: 0.9799 - val_loss: 0.0803 - val_accuracy: 0.9766\n",
      "Epoch 94/100\n",
      "398/398 [==============================] - 0s 63us/sample - loss: 0.1007 - accuracy: 0.9799 - val_loss: 0.0799 - val_accuracy: 0.9766\n",
      "Epoch 95/100\n",
      "398/398 [==============================] - 0s 125us/sample - loss: 0.1003 - accuracy: 0.9799 - val_loss: 0.0794 - val_accuracy: 0.9766\n",
      "Epoch 96/100\n",
      "398/398 [==============================] - 0s 80us/sample - loss: 0.0999 - accuracy: 0.9799 - val_loss: 0.0790 - val_accuracy: 0.9766\n",
      "Epoch 97/100\n",
      "398/398 [==============================] - 0s 80us/sample - loss: 0.0994 - accuracy: 0.9799 - val_loss: 0.0786 - val_accuracy: 0.9766\n",
      "Epoch 98/100\n",
      "398/398 [==============================] - 0s 68us/sample - loss: 0.0990 - accuracy: 0.9799 - val_loss: 0.0781 - val_accuracy: 0.9825\n",
      "Epoch 99/100\n",
      "398/398 [==============================] - 0s 83us/sample - loss: 0.0986 - accuracy: 0.9799 - val_loss: 0.0777 - val_accuracy: 0.9825\n",
      "Epoch 100/100\n",
      "398/398 [==============================] - 0s 80us/sample - loss: 0.0982 - accuracy: 0.9799 - val_loss: 0.0774 - val_accuracy: 0.9825\n"
     ]
    }
   ],
   "source": [
    "# training the model\n",
    "r = model.fit(x_train, y_train, validation_data = (x_test, y_test), epochs = 100)\n",
    "# the assigned variable will be used to plot diagrams"
   ]
  },
  {
   "cell_type": "code",
   "execution_count": 17,
   "metadata": {},
   "outputs": [
    {
     "name": "stdout",
     "output_type": "stream",
     "text": [
      "398/398 [==============================] - 0s 38us/sample - loss: 0.0980 - accuracy: 0.9799\n",
      "[0.09795164927166311, 0.9798995]\n",
      "171/171 [==============================] - 0s 70us/sample - loss: 0.0774 - accuracy: 0.9825\n",
      "[0.07735066268353434, 0.98245615]\n"
     ]
    }
   ],
   "source": [
    "print(model.evaluate(x_train, y_train))\n",
    "print(model.evaluate(x_test, y_test))"
   ]
  },
  {
   "cell_type": "code",
   "execution_count": 18,
   "metadata": {},
   "outputs": [
    {
     "data": {
      "text/plain": [
       "<matplotlib.legend.Legend at 0x2469412e408>"
      ]
     },
     "execution_count": 18,
     "metadata": {},
     "output_type": "execute_result"
    },
    {
     "data": {
      "image/png": "[encoded data removed]",
      "text/plain": [
       "<Figure size 432x288 with 1 Axes>"
      ]
     },
     "metadata": {
      "needs_background": "light"
     },
     "output_type": "display_data"
    }
   ],
   "source": [
    "plt.plot(r.history['loss'], label = 'Loss')\n",
    "plt.plot(r.history['val_loss'], label = 'Validation_Loss')\n",
    "plt.legend()"
   ]
  },
  {
   "cell_type": "code",
   "execution_count": 19,
   "metadata": {},
   "outputs": [
    {
     "data": {
      "text/plain": [
       "<matplotlib.legend.Legend at 0x2469412ed88>"
      ]
     },
     "execution_count": 19,
     "metadata": {},
     "output_type": "execute_result"
    },
    {
     "data": {
      "image/png": "[encoded data removed]",
      "text/plain": [
       "<Figure size 432x288 with 1 Axes>"
      ]
     },
     "metadata": {
      "needs_background": "light"
     },
     "output_type": "display_data"
    }
   ],
   "source": [
    "plt.plot(r.history['accuracy'], label = 'accuracy')\n",
    "plt.plot(r.history['val_accuracy'], label = 'validation_accuracy')\n",
    "plt.legend()"
   ]
  },
  {
   "cell_type": "code",
   "execution_count": 20,
   "metadata": {},
   "outputs": [
    {
     "data": {
      "text/plain": [
       "array([[9.9744570e-01],\n",
       "       [1.3832645e-01],\n",
       "       [9.8385495e-01],\n",
       "       [3.0549678e-01],\n",
       "       [9.9801373e-01],\n",
       "       [9.8887444e-01],\n",
       "       [8.7430805e-01],\n",
       "       [9.9200505e-01],\n",
       "       [8.7073368e-01],\n",
       "       [9.0316671e-01],\n",
       "       [4.0802088e-01],\n",
       "       [9.7746015e-01],\n",
       "       [3.2776737e-04],\n",
       "       [9.8286003e-01],\n",
       "       [9.9967337e-01],\n",
       "       [9.7205478e-01],\n",
       "       [4.5642145e-07],\n",
       "       [8.5937515e-02],\n",
       "       [9.1065806e-01],\n",
       "       [1.3700577e-04],\n",
       "       [9.8864496e-01],\n",
       "       [6.2202889e-04],\n",
       "       [8.5815269e-01],\n",
       "       [6.4335467e-04],\n",
       "       [1.9267946e-04],\n",
       "       [9.9937809e-01],\n",
       "       [9.6548426e-01],\n",
       "       [3.3635632e-04],\n",
       "       [1.8315530e-01],\n",
       "       [8.4687099e-02],\n",
       "       [5.0912601e-01],\n",
       "       [6.4572883e-01],\n",
       "       [9.9868006e-01],\n",
       "       [1.5022217e-02],\n",
       "       [9.9725938e-01],\n",
       "       [6.5164071e-01],\n",
       "       [9.9805009e-01],\n",
       "       [9.8037958e-01],\n",
       "       [9.7195184e-01],\n",
       "       [5.8030960e-04],\n",
       "       [9.9881977e-01],\n",
       "       [9.9885118e-01],\n",
       "       [9.9681312e-01],\n",
       "       [9.2842895e-01],\n",
       "       [9.9148494e-01],\n",
       "       [9.9960762e-01],\n",
       "       [9.9892694e-01],\n",
       "       [5.1895357e-03],\n",
       "       [1.5999753e-03],\n",
       "       [9.9364942e-01],\n",
       "       [9.0299374e-01],\n",
       "       [8.9248085e-01],\n",
       "       [9.7982794e-01],\n",
       "       [9.9047136e-01],\n",
       "       [2.8140711e-14],\n",
       "       [4.9774185e-02],\n",
       "       [7.6169357e-08],\n",
       "       [9.8118734e-01],\n",
       "       [9.1962290e-01],\n",
       "       [9.9234915e-01],\n",
       "       [9.6242005e-01],\n",
       "       [9.2819571e-01],\n",
       "       [9.8939776e-01],\n",
       "       [1.1849655e-03],\n",
       "       [1.2316845e-03],\n",
       "       [9.9060315e-01],\n",
       "       [8.2549540e-04],\n",
       "       [9.8808646e-01],\n",
       "       [9.2991166e-02],\n",
       "       [5.2316140e-05],\n",
       "       [8.1523907e-01],\n",
       "       [9.9833006e-01],\n",
       "       [1.7615508e-02],\n",
       "       [1.8016881e-01],\n",
       "       [9.4226062e-01],\n",
       "       [9.8326701e-01],\n",
       "       [3.4557149e-04],\n",
       "       [2.5527852e-03],\n",
       "       [9.9499005e-01],\n",
       "       [1.4409064e-03],\n",
       "       [9.9315369e-01],\n",
       "       [5.0038910e-01],\n",
       "       [9.7881156e-01],\n",
       "       [9.9701703e-01],\n",
       "       [2.4447048e-05],\n",
       "       [7.6662312e-05],\n",
       "       [9.9999726e-01],\n",
       "       [6.7225631e-07],\n",
       "       [1.1620325e-02],\n",
       "       [9.7721446e-01],\n",
       "       [9.9032521e-01],\n",
       "       [9.9955124e-01],\n",
       "       [9.8538357e-01],\n",
       "       [3.4917649e-03],\n",
       "       [2.9219827e-05],\n",
       "       [5.5811810e-04],\n",
       "       [9.9985707e-01],\n",
       "       [8.2714033e-01],\n",
       "       [3.0705286e-03],\n",
       "       [9.9784172e-01],\n",
       "       [9.4917452e-01],\n",
       "       [9.7665554e-01],\n",
       "       [9.9573344e-01],\n",
       "       [9.8955649e-01],\n",
       "       [9.9398983e-01],\n",
       "       [8.6683720e-01],\n",
       "       [2.4827750e-02],\n",
       "       [9.9209291e-01],\n",
       "       [9.9961072e-01],\n",
       "       [9.6571165e-01],\n",
       "       [9.8357117e-01],\n",
       "       [9.9588555e-01],\n",
       "       [4.7605026e-01],\n",
       "       [9.9954814e-01],\n",
       "       [6.1578224e-03],\n",
       "       [9.9916577e-01],\n",
       "       [8.0849457e-01],\n",
       "       [9.5038176e-01],\n",
       "       [9.9787652e-01],\n",
       "       [9.9552816e-01],\n",
       "       [5.6919667e-11],\n",
       "       [1.0451529e-01],\n",
       "       [4.5549910e-04],\n",
       "       [9.9859971e-01],\n",
       "       [8.3804917e-01],\n",
       "       [4.0729165e-02],\n",
       "       [9.8186344e-01],\n",
       "       [7.8010821e-01],\n",
       "       [7.8879637e-01],\n",
       "       [4.7496591e-02],\n",
       "       [9.4649220e-01],\n",
       "       [9.7424173e-01],\n",
       "       [8.2952112e-01],\n",
       "       [5.3089050e-08],\n",
       "       [9.8667544e-01],\n",
       "       [9.9504399e-01],\n",
       "       [1.3730550e-03],\n",
       "       [9.5809996e-01],\n",
       "       [3.3980832e-02],\n",
       "       [5.9956137e-02],\n",
       "       [9.4632815e-06],\n",
       "       [6.2713109e-02],\n",
       "       [4.9196920e-01],\n",
       "       [1.8012038e-04],\n",
       "       [9.9537045e-01],\n",
       "       [9.9856961e-01],\n",
       "       [5.1018182e-04],\n",
       "       [8.9986725e-07],\n",
       "       [8.5001560e-03],\n",
       "       [1.8505789e-01],\n",
       "       [8.7695080e-01],\n",
       "       [1.5124890e-01],\n",
       "       [5.8812922e-01],\n",
       "       [9.9803835e-01],\n",
       "       [9.5553136e-01],\n",
       "       [9.9535722e-01],\n",
       "       [1.5857884e-01],\n",
       "       [2.7862841e-05],\n",
       "       [9.9265999e-01],\n",
       "       [9.4294763e-01],\n",
       "       [9.8572320e-01],\n",
       "       [5.3999501e-01],\n",
       "       [9.7733605e-01],\n",
       "       [5.1314573e-06],\n",
       "       [9.9949336e-01],\n",
       "       [5.5419933e-03],\n",
       "       [9.9975044e-01],\n",
       "       [1.6302407e-03],\n",
       "       [9.4403160e-01],\n",
       "       [6.3089572e-02],\n",
       "       [9.9793673e-01]], dtype=float32)"
      ]
     },
     "execution_count": 20,
     "metadata": {},
     "output_type": "execute_result"
    }
   ],
   "source": [
    "p = model.predict(x_test)\n",
    "p"
   ]
  },
  {
   "cell_type": "code",
   "execution_count": 21,
   "metadata": {},
   "outputs": [
    {
     "data": {
      "text/plain": [
       "array([1., 0., 1., 0., 1., 1., 1., 1., 1., 1., 0., 1., 0., 1., 1., 1., 0.,\n",
       "       0., 1., 0., 1., 0., 1., 0., 0., 1., 1., 0., 0., 0., 1., 1., 1., 0.,\n",
       "       1., 1., 1., 1., 1., 0., 1., 1., 1., 1., 1., 1., 1., 0., 0., 1., 1.,\n",
       "       1., 1., 1., 0., 0., 0., 1., 1., 1., 1., 1., 1., 0., 0., 1., 0., 1.,\n",
       "       0., 0., 1., 1., 0., 0., 1., 1., 0., 0., 1., 0., 1., 1., 1., 1., 0.,\n",
       "       0., 1., 0., 0., 1., 1., 1., 1., 0., 0., 0., 1., 1., 0., 1., 1., 1.,\n",
       "       1., 1., 1., 1., 0., 1., 1., 1., 1., 1., 0., 1., 0., 1., 1., 1., 1.,\n",
       "       1., 0., 0., 0., 1., 1., 0., 1., 1., 1., 0., 1., 1., 1., 0., 1., 1.,\n",
       "       0., 1., 0., 0., 0., 0., 0., 0., 1., 1., 0., 0., 0., 0., 1., 0., 1.,\n",
       "       1., 1., 1., 0., 0., 1., 1., 1., 1., 1., 0., 1., 0., 1., 0., 1., 0.,\n",
       "       1.], dtype=float32)"
      ]
     },
     "execution_count": 21,
     "metadata": {},
     "output_type": "execute_result"
    }
   ],
   "source": [
    "p = np.round(p)\n",
    "p = p.flatten()\n",
    "p"
   ]
  },
  {
   "cell_type": "code",
   "execution_count": 22,
   "metadata": {},
   "outputs": [
    {
     "data": {
      "text/plain": [
       "array([1, 0, 1, 0, 1, 1, 1, 1, 1, 1, 0, 1, 0, 1, 1, 1, 0, 0, 1, 0, 1, 0,\n",
       "       1, 0, 0, 1, 1, 0, 0, 0, 1, 1, 1, 0, 1, 1, 1, 1, 1, 0, 1, 1, 1, 1,\n",
       "       1, 1, 1, 0, 0, 1, 1, 1, 1, 1, 0, 0, 0, 1, 1, 1, 1, 1, 1, 0, 0, 1,\n",
       "       0, 1, 0, 0, 1, 1, 0, 0, 1, 1, 0, 0, 1, 0, 1, 0, 1, 1, 0, 0, 1, 0,\n",
       "       0, 1, 1, 1, 1, 0, 0, 0, 1, 1, 0, 1, 1, 1, 1, 1, 1, 1, 0, 1, 1, 1,\n",
       "       1, 1, 0, 1, 0, 1, 1, 1, 1, 1, 0, 0, 0, 1, 1, 0, 1, 1, 1, 0, 1, 1,\n",
       "       0, 0, 1, 1, 0, 1, 0, 0, 0, 0, 0, 0, 1, 1, 0, 0, 0, 0, 1, 0, 1, 1,\n",
       "       1, 1, 0, 0, 1, 1, 1, 0, 1, 0, 1, 0, 1, 0, 1, 0, 1])"
      ]
     },
     "execution_count": 22,
     "metadata": {},
     "output_type": "execute_result"
    }
   ],
   "source": [
    "y_test"
   ]
  },
  {
   "cell_type": "code",
   "execution_count": 30,
   "metadata": {},
   "outputs": [
    {
     "name": "stdout",
     "output_type": "stream",
     "text": [
      "0.9824561403508771\n",
      "171/171 [==============================] - 0s 47us/sample - loss: 0.0774 - accuracy: 0.9825\n",
      "[0.07735066268353434, 0.98245615]\n"
     ]
    }
   ],
   "source": [
    "print(np.mean(p == y_test))\n",
    "print(model.evaluate(x_test, y_test))"
   ]
  },
  {
   "cell_type": "code",
   "execution_count": null,
   "metadata": {},
   "outputs": [],
   "source": []
  }
 ],
 "metadata": {
  "kernelspec": {
   "display_name": "Python 3",
   "language": "python",
   "name": "python3"
  },
  "language_info": {
   "codemirror_mode": {
    "name": "ipython",
    "version": 3
   },
   "file_extension": ".py",
   "mimetype": "text/x-python",
   "name": "python",
   "nbconvert_exporter": "python",
   "pygments_lexer": "ipython3",
   "version": "3.7.4"
  }
 },
 "nbformat": 4,
 "nbformat_minor": 2
}
