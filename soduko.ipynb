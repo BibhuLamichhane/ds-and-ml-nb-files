{
 "cells": [
  {
   "cell_type": "code",
   "execution_count": 1,
   "metadata": {},
   "outputs": [],
   "source": [
    "import numpy as np"
   ]
  },
  {
   "cell_type": "code",
   "execution_count": null,
   "metadata": {},
   "outputs": [
    {
     "name": "stdout",
     "output_type": "stream",
     "text": [
      "0\n",
      "0\n",
      "0\n",
      "0\n",
      "0\n",
      "0\n",
      "0\n",
      "0\n",
      "0\n",
      "0\n",
      "0\n",
      "0\n",
      "0\n",
      "0\n",
      "0\n",
      "0\n",
      "0\n",
      "0\n",
      "0\n",
      "0\n",
      "0\n",
      "0\n",
      "0\n",
      "0\n",
      "0\n",
      "0\n",
      "0\n",
      "3\n",
      "8\n",
      "4\n",
      "0\n",
      "0\n",
      "0\n",
      "0\n",
      "0\n",
      "0\n",
      "0\n",
      "0\n",
      "0\n",
      "0\n",
      "0\n",
      "0\n",
      "0\n",
      "0\n",
      "0\n",
      "0\n",
      "0\n",
      "0\n",
      "0\n",
      "0\n",
      "0\n",
      "0\n",
      "0\n",
      "0\n"
     ]
    }
   ],
   "source": [
    "board = []\n",
    "for i in range(9):\n",
    "    board.append([])\n",
    "    for j in range(9):\n",
    "        v = input()\n",
    "        board[i].append(int(v))"
   ]
  },
  {
   "cell_type": "code",
   "execution_count": 4,
   "metadata": {},
   "outputs": [],
   "source": [
    "def check(y,x,n):\n",
    "    global board\n",
    "    for i in range(0,9):\n",
    "        if board[y][i] == n:\n",
    "            return False\n",
    "    for i in range(0,9):\n",
    "        if board[i][x] == n:\n",
    "            return False\n",
    "    x0 = (x//3)*3\n",
    "    y0 = (y//3)*3\n",
    "    for i in range(0,3):\n",
    "        for j in range(0,3):\n",
    "            if board[y0 + i][x0 + j] == n:\n",
    "                return False\n",
    "    return True"
   ]
  },
  {
   "cell_type": "code",
   "execution_count": 5,
   "metadata": {},
   "outputs": [],
   "source": [
    "def final() :\n",
    "    global board\n",
    "    for y in range(9) :\n",
    "        for x in range(9) :\n",
    "            if board[y][x] == 0 :\n",
    "                for n in range(1,10) :\n",
    "                    if check(y,x,n) :\n",
    "                        board[y][x] = n\n",
    "                        final()\n",
    "                        board[y][x] = 0\n",
    "                return\n",
    "    print(np.matrix(board))\n",
    "    input('More?')"
   ]
  },
  {
   "cell_type": "code",
   "execution_count": 8,
   "metadata": {},
   "outputs": [
    {
     "name": "stdout",
     "output_type": "stream",
     "text": [
      "[[5 8 6 2 3 1 4 7 9]\n",
      " [4 3 7 8 9 5 1 6 2]\n",
      " [9 1 2 4 6 7 5 3 8]\n",
      " [6 2 9 1 7 8 3 4 5]\n",
      " [1 5 8 9 4 3 7 2 6]\n",
      " [3 7 4 6 5 2 8 9 1]\n",
      " [8 6 5 7 2 4 9 1 3]\n",
      " [2 4 3 5 1 9 6 8 7]\n",
      " [7 9 1 3 8 6 2 5 4]]\n",
      "More?\n"
     ]
    }
   ],
   "source": [
    "final()"
   ]
  },
  {
   "cell_type": "code",
   "execution_count": null,
   "metadata": {},
   "outputs": [],
   "source": []
  }
 ],
 "metadata": {
  "kernelspec": {
   "display_name": "Python 3",
   "language": "python",
   "name": "python3"
  },
  "language_info": {
   "codemirror_mode": {
    "name": "ipython",
    "version": 3
   },
   "file_extension": ".py",
   "mimetype": "text/x-python",
   "name": "python",
   "nbconvert_exporter": "python",
   "pygments_lexer": "ipython3",
   "version": "3.7.4"
  }
 },
 "nbformat": 4,
 "nbformat_minor": 2
}
