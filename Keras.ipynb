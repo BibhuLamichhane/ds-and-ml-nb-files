{
 "cells": [
  {
   "cell_type": "code",
   "execution_count": 8,
   "metadata": {},
   "outputs": [],
   "source": [
    "from keras.datasets import mnist\n",
    "import keras.utils.np_utils as ku\n",
    "import keras.models as models\n",
    "import keras.layers as layers\n",
    "from keras import regularizers\n",
    "import numpy as np\n",
    "import matplotlib.pyplot as plt\n",
    "%matplotlib inline\n",
    "import cv2\n",
    "import tensorflow as tf\n",
    "import keras"
   ]
  },
  {
   "cell_type": "code",
   "execution_count": 9,
   "metadata": {},
   "outputs": [],
   "source": [
    "(train_samp, train_lab), (test_samp, test_lab) = mnist.load_data()"
   ]
  },
  {
   "cell_type": "code",
   "execution_count": 11,
   "metadata": {
    "scrolled": true
   },
   "outputs": [
    {
     "ename": "MemoryError",
     "evalue": "",
     "output_type": "error",
     "traceback": [
      "\u001b[1;31m---------------------------------------------------------------------------\u001b[0m",
      "\u001b[1;31mMemoryError\u001b[0m                               Traceback (most recent call last)",
      "\u001b[1;32m<ipython-input-11-8166e6604cb2>\u001b[0m in \u001b[0;36m<module>\u001b[1;34m\u001b[0m\n\u001b[1;32m----> 1\u001b[1;33m \u001b[0mtrain_samp\u001b[0m \u001b[1;33m=\u001b[0m \u001b[0mtrain_samp\u001b[0m\u001b[1;33m.\u001b[0m\u001b[0mreshape\u001b[0m\u001b[1;33m(\u001b[0m\u001b[1;36m60000\u001b[0m\u001b[1;33m,\u001b[0m \u001b[1;36m28\u001b[0m \u001b[1;33m*\u001b[0m \u001b[1;36m28\u001b[0m \u001b[1;33m)\u001b[0m\u001b[1;33m.\u001b[0m\u001b[0mastype\u001b[0m\u001b[1;33m(\u001b[0m\u001b[1;34m'float32'\u001b[0m\u001b[1;33m)\u001b[0m\u001b[1;33m/\u001b[0m\u001b[1;36m255\u001b[0m \u001b[1;31m# divding by 255 cause each pixel vary\u001b[0m\u001b[1;33m\u001b[0m\u001b[1;33m\u001b[0m\u001b[0m\n\u001b[0m\u001b[0;32m      2\u001b[0m \u001b[0mtest_samp\u001b[0m \u001b[1;33m=\u001b[0m \u001b[0mtest_samp\u001b[0m\u001b[1;33m.\u001b[0m\u001b[0mreshape\u001b[0m\u001b[1;33m(\u001b[0m\u001b[1;36m10000\u001b[0m\u001b[1;33m,\u001b[0m \u001b[1;36m28\u001b[0m \u001b[1;33m*\u001b[0m \u001b[1;36m28\u001b[0m\u001b[1;33m)\u001b[0m\u001b[1;33m.\u001b[0m\u001b[0mastype\u001b[0m\u001b[1;33m(\u001b[0m\u001b[1;34m'float'\u001b[0m\u001b[1;33m)\u001b[0m\u001b[1;33m/\u001b[0m\u001b[1;36m255\u001b[0m      \u001b[1;31m# between 0 and 255 so dividing changes\u001b[0m\u001b[1;33m\u001b[0m\u001b[1;33m\u001b[0m\u001b[0m\n\u001b[0;32m      3\u001b[0m                                                              \u001b[1;31m# it to vary bertween 0 to 1\u001b[0m\u001b[1;33m\u001b[0m\u001b[1;33m\u001b[0m\u001b[1;33m\u001b[0m\u001b[0m\n\u001b[0;32m      4\u001b[0m \u001b[1;32mfor\u001b[0m \u001b[0mi\u001b[0m \u001b[1;32min\u001b[0m \u001b[0mtrain_lab\u001b[0m\u001b[1;33m:\u001b[0m\u001b[1;33m\u001b[0m\u001b[1;33m\u001b[0m\u001b[0m\n\u001b[0;32m      5\u001b[0m     \u001b[0mprint\u001b[0m\u001b[1;33m(\u001b[0m\u001b[0mi\u001b[0m\u001b[1;33m)\u001b[0m\u001b[1;33m\u001b[0m\u001b[1;33m\u001b[0m\u001b[0m\n",
      "\u001b[1;31mMemoryError\u001b[0m: "
     ]
    }
   ],
   "source": [
    "train_samp = train_samp.reshape(60000, 28 * 28 ).astype('float32')/255 # divding by 255 cause each pixel vary\n",
    "test_samp = test_samp.reshape(10000, 28 * 28).astype('float')/255      # between 0 and 255 so dividing changes\n",
    "                                                             # it to vary bertween 0 to 1"
   ]
  },
  {
   "cell_type": "code",
   "execution_count": 5,
   "metadata": {},
   "outputs": [
    {
     "name": "stdout",
     "output_type": "stream",
     "text": [
      "Train on 60000 samples, validate on 10000 samples\n",
      "Epoch 1/20\n",
      "60000/60000 [==============================] - 7s 116us/step - loss: 0.2711 - accuracy: 0.9212 - val_loss: 0.1414 - val_accuracy: 0.9566\n",
      "Epoch 2/20\n",
      "60000/60000 [==============================] - 6s 107us/step - loss: 0.1185 - accuracy: 0.9645 - val_loss: 0.0973 - val_accuracy: 0.9691\n",
      "Epoch 3/20\n",
      "60000/60000 [==============================] - 7s 115us/step - loss: 0.0830 - accuracy: 0.9748 - val_loss: 0.0830 - val_accuracy: 0.9761\n",
      "Epoch 4/20\n",
      "60000/60000 [==============================] - 7s 114us/step - loss: 0.0636 - accuracy: 0.9806 - val_loss: 0.0768 - val_accuracy: 0.9772\n",
      "Epoch 5/20\n",
      "60000/60000 [==============================] - 7s 114us/step - loss: 0.0514 - accuracy: 0.9845 - val_loss: 0.0712 - val_accuracy: 0.9773\n",
      "Epoch 6/20\n",
      "60000/60000 [==============================] - 7s 116us/step - loss: 0.0430 - accuracy: 0.9872 - val_loss: 0.0678 - val_accuracy: 0.9804\n",
      "Epoch 7/20\n",
      "60000/60000 [==============================] - 7s 110us/step - loss: 0.0364 - accuracy: 0.9893 - val_loss: 0.0666 - val_accuracy: 0.9796\n",
      "Epoch 8/20\n",
      "60000/60000 [==============================] - 8s 127us/step - loss: 0.0325 - accuracy: 0.9902 - val_loss: 0.0669 - val_accuracy: 0.9819\n",
      "Epoch 9/20\n",
      "60000/60000 [==============================] - 7s 117us/step - loss: 0.0283 - accuracy: 0.9916 - val_loss: 0.0666 - val_accuracy: 0.9822\n",
      "Epoch 10/20\n",
      "60000/60000 [==============================] - 8s 134us/step - loss: 0.0241 - accuracy: 0.9926 - val_loss: 0.0674 - val_accuracy: 0.9823\n",
      "Epoch 11/20\n",
      "60000/60000 [==============================] - 8s 127us/step - loss: 0.0216 - accuracy: 0.9931 - val_loss: 0.0711 - val_accuracy: 0.9812\n",
      "Epoch 12/20\n",
      "60000/60000 [==============================] - 7s 123us/step - loss: 0.0184 - accuracy: 0.9941 - val_loss: 0.0748 - val_accuracy: 0.9824\n",
      "Epoch 13/20\n",
      "60000/60000 [==============================] - 7s 121us/step - loss: 0.0166 - accuracy: 0.9947 - val_loss: 0.0674 - val_accuracy: 0.9828\n",
      "Epoch 14/20\n",
      "60000/60000 [==============================] - 7s 116us/step - loss: 0.0150 - accuracy: 0.9952 - val_loss: 0.0702 - val_accuracy: 0.9841\n",
      "Epoch 15/20\n",
      "60000/60000 [==============================] - 7s 116us/step - loss: 0.0130 - accuracy: 0.9959 - val_loss: 0.0765 - val_accuracy: 0.9828\n",
      "Epoch 16/20\n",
      "60000/60000 [==============================] - 7s 110us/step - loss: 0.0120 - accuracy: 0.9961 - val_loss: 0.0726 - val_accuracy: 0.9836\n",
      "Epoch 17/20\n",
      "60000/60000 [==============================] - 8s 131us/step - loss: 0.0103 - accuracy: 0.9967 - val_loss: 0.0813 - val_accuracy: 0.9822\n",
      "Epoch 18/20\n",
      "60000/60000 [==============================] - 8s 131us/step - loss: 0.0097 - accuracy: 0.9970 - val_loss: 0.0781 - val_accuracy: 0.9826\n",
      "Epoch 19/20\n",
      "60000/60000 [==============================] - 7s 120us/step - loss: 0.0089 - accuracy: 0.9973 - val_loss: 0.0748 - val_accuracy: 0.9841\n",
      "Epoch 20/20\n",
      "60000/60000 [==============================] - 7s 120us/step - loss: 0.0079 - accuracy: 0.9974 - val_loss: 0.0888 - val_accuracy: 0.9821\n"
     ]
    }
   ],
   "source": [
    "nn = models.Sequential()\n",
    "nn.add(layers.Dense(512, activation = 'relu', input_shape = (28 * 28,))) \n",
    "nn.add(layers.Dropout(0.2))\n",
    "nn.add(layers.Dense(10, activation = 'softmax', input_shape = (28 * 28,)))\n",
    "nn.compile(optimizer = 'rmsprop', loss = 'sparse_categorical_crossentropy', metrics = ['accuracy'])\n",
    "history = nn.fit(train_samp, train_lab, epochs = 20, batch_size = 128, validation_data = (test_samp, test_lab))"
   ]
  },
  {
   "cell_type": "code",
   "execution_count": 7,
   "metadata": {},
   "outputs": [
    {
     "data": {
      "text/plain": [
       "(288, 432)"
      ]
     },
     "execution_count": 7,
     "metadata": {},
     "output_type": "execute_result"
    }
   ],
   "source": [
    "t = cv2.imread('gan_images/13800.png', 0)\n",
    "t = t/255\n",
    "t.shape"
   ]
  },
  {
   "cell_type": "code",
   "execution_count": 49,
   "metadata": {},
   "outputs": [
    {
     "data": {
      "text/plain": [
       "9"
      ]
     },
     "execution_count": 49,
     "metadata": {},
     "output_type": "execute_result"
    }
   ],
   "source": [
    "nn.predict_classes(t)[0]"
   ]
  },
  {
   "cell_type": "code",
   "execution_count": null,
   "metadata": {},
   "outputs": [],
   "source": []
  }
 ],
 "metadata": {
  "kernelspec": {
   "display_name": "Python 3",
   "language": "python",
   "name": "python3"
  },
  "language_info": {
   "codemirror_mode": {
    "name": "ipython",
    "version": 3
   },
   "file_extension": ".py",
   "mimetype": "text/x-python",
   "name": "python",
   "nbconvert_exporter": "python",
   "pygments_lexer": "ipython3",
   "version": "3.6.7"
  }
 },
 "nbformat": 4,
 "nbformat_minor": 2
}
