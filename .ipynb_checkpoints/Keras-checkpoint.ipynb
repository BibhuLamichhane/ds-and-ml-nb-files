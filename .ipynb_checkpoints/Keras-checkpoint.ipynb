{
 "cells": [
  {
   "cell_type": "code",
   "execution_count": 1,
   "metadata": {},
   "outputs": [
    {
     "name": "stderr",
     "output_type": "stream",
     "text": [
      "Using TensorFlow backend.\n"
     ]
    }
   ],
   "source": [
    "from keras.datasets import mnist\n",
    "import keras.utils.np_utils as ku\n",
    "import keras.models as models\n",
    "import keras.layers as layers\n",
    "from keras import regularizers\n",
    "import numpy as np\n",
    "import matplotlib.pyplot as plt\n",
    "%matplotlib inline\n",
    "import cv2"
   ]
  },
  {
   "cell_type": "code",
   "execution_count": 2,
   "metadata": {},
   "outputs": [],
   "source": [
    "(train, trainl), (test, testl) = mnist.load_data()"
   ]
  },
  {
   "cell_type": "code",
   "execution_count": 3,
   "metadata": {
    "scrolled": true
   },
   "outputs": [],
   "source": [
    "train = train.reshape(60000, 28 * 28 ).astype('float32')/255 # divding by 255 cause each pixel vary\n",
    "test = test.reshape(10000, 28 * 28).astype('float')/255      # between 0 and 255 so dividing changes\n",
    "                                                             # it to vary bertween 0 to 1"
   ]
  },
  {
   "cell_type": "code",
   "execution_count": 4,
   "metadata": {},
   "outputs": [
    {
     "name": "stdout",
     "output_type": "stream",
     "text": [
      "2\n",
      "[0. 0. 1. 0. 0. 0. 0. 0. 0. 0.]\n"
     ]
    }
   ],
   "source": [
    "print(trainl[3200])\n",
    "trainl = ku.to_categorical(trainl)\n",
    "print(trainl[3200])"
   ]
  },
  {
   "cell_type": "code",
   "execution_count": 5,
   "metadata": {},
   "outputs": [
    {
     "name": "stdout",
     "output_type": "stream",
     "text": [
      "7\n",
      "[0. 0. 0. 0. 0. 0. 0. 1. 0. 0.]\n"
     ]
    }
   ],
   "source": [
    "print(testl[0])\n",
    "testl = ku.to_categorical(testl)\n",
    "print(testl[0])"
   ]
  },
  {
   "cell_type": "code",
   "execution_count": 6,
   "metadata": {},
   "outputs": [],
   "source": [
    "# adding layers\n",
    "# 1. convulation layer adds a filter to each term of the tensor\n",
    "# 2. relu converts all the -ve numbers to 0\n",
    "# 3. maxpooling takes multiple values from a tensor and creates a new tensor \n",
    "# with the average of those values\n",
    "# 4. fully connected layer takes all of the tensors after the maxpooling and reshapes them into\n",
    "# a vector\n",
    "# 5.softmax layer takes all of the data from the vectors created by the fully connected layers and\n",
    "# creates a probability distribution table and determines the output i.e the value of x with the \n",
    "# highest probability"
   ]
  },
  {
   "cell_type": "code",
   "execution_count": 7,
   "metadata": {},
   "outputs": [],
   "source": [
    "# adding layers using code\n",
    "nn = models.Sequential() # declaration of the layers' skeleton\n",
    "nn.add(layers.Dense(512, activation = 'relu', input_shape = (28 * 28,))) # added relu to the skeleton\n",
    "nn.add(layers.Dense(10, activation = 'softmax'))"
   ]
  },
  {
   "cell_type": "code",
   "execution_count": 8,
   "metadata": {},
   "outputs": [],
   "source": [
    "# after a model/skeleton is created the model needs to be compiled\n",
    "# there are 3 steps in compiling the model\n",
    "# 1. choosing an optimizer\n",
    "# 2. choosing a loss function\n",
    "# 3. choosing one or more matrices to evaluate the performance of the model\n",
    "# optimizer molds the model to provide an accurate output\n",
    "# loss function helps the optimizer to mold the model"
   ]
  },
  {
   "cell_type": "code",
   "execution_count": 9,
   "metadata": {},
   "outputs": [],
   "source": [
    "nn.compile(optimizer = 'rmsprop', loss = 'categorical_crossentropy', metrics = ['accuracy'])"
   ]
  },
  {
   "cell_type": "code",
   "execution_count": 10,
   "metadata": {},
   "outputs": [],
   "source": [
    "# now the model/skeleton is compiled\n",
    "# we have to fit the data in the skeleton\n",
    "# training data , training label, iteration(epochs), batch size"
   ]
  },
  {
   "cell_type": "code",
   "execution_count": 11,
   "metadata": {},
   "outputs": [
    {
     "name": "stdout",
     "output_type": "stream",
     "text": [
      "Epoch 1/5\n",
      "60000/60000 [==============================] - 5s 85us/step - loss: 0.2571 - accuracy: 0.9259\n",
      "Epoch 2/5\n",
      "60000/60000 [==============================] - 5s 83us/step - loss: 0.1035 - accuracy: 0.9694\n",
      "Epoch 3/5\n",
      "60000/60000 [==============================] - 5s 83us/step - loss: 0.0697 - accuracy: 0.9787\n",
      "Epoch 4/5\n",
      "60000/60000 [==============================] - 5s 84us/step - loss: 0.0499 - accuracy: 0.9849\n",
      "Epoch 5/5\n",
      "60000/60000 [==============================] - 5s 83us/step - loss: 0.0381 - accuracy: 0.9892\n"
     ]
    },
    {
     "data": {
      "text/plain": [
       "<keras.callbacks.callbacks.History at 0x15f418c8648>"
      ]
     },
     "execution_count": 11,
     "metadata": {},
     "output_type": "execute_result"
    }
   ],
   "source": [
    "nn.fit(train, trainl, epochs = 5, batch_size = 128)"
   ]
  },
  {
   "cell_type": "code",
   "execution_count": 12,
   "metadata": {},
   "outputs": [],
   "source": [
    "# the loss decreasing and accuracy increasing might not always mean that the model\n",
    "# is getting better sometimes the model might just be learning wrong data\n",
    "# to check that use evaluate function\n",
    "# we might notice the difference in the during the training and the evaluation"
   ]
  },
  {
   "cell_type": "code",
   "execution_count": 13,
   "metadata": {},
   "outputs": [
    {
     "name": "stdout",
     "output_type": "stream",
     "text": [
      "10000/10000 [==============================] - 1s 59us/step\n"
     ]
    },
    {
     "data": {
      "text/plain": [
       "[0.06684232843149221, 0.9789000153541565]"
      ]
     },
     "execution_count": 13,
     "metadata": {},
     "output_type": "execute_result"
    }
   ],
   "source": [
    "nn.evaluate(test, testl)"
   ]
  },
  {
   "cell_type": "code",
   "execution_count": 14,
   "metadata": {},
   "outputs": [
    {
     "name": "stdout",
     "output_type": "stream",
     "text": [
      "Train on 60000 samples, validate on 10000 samples\n",
      "Epoch 1/20\n",
      "60000/60000 [==============================] - 5s 86us/step - loss: 0.2569 - accuracy: 0.9254 - val_loss: 0.1336 - val_accuracy: 0.9599\n",
      "Epoch 2/20\n",
      "60000/60000 [==============================] - 5s 89us/step - loss: 0.1038 - accuracy: 0.9691 - val_loss: 0.0868 - val_accuracy: 0.9753\n",
      "Epoch 3/20\n",
      "60000/60000 [==============================] - 5s 86us/step - loss: 0.0688 - accuracy: 0.9795 - val_loss: 0.0765 - val_accuracy: 0.9755\n",
      "Epoch 4/20\n",
      "60000/60000 [==============================] - 6s 92us/step - loss: 0.0501 - accuracy: 0.9849 - val_loss: 0.0739 - val_accuracy: 0.9777\n",
      "Epoch 5/20\n",
      "60000/60000 [==============================] - 5s 82us/step - loss: 0.0380 - accuracy: 0.9884 - val_loss: 0.0703 - val_accuracy: 0.9779\n",
      "Epoch 6/20\n",
      "60000/60000 [==============================] - 5s 83us/step - loss: 0.0283 - accuracy: 0.9920 - val_loss: 0.0629 - val_accuracy: 0.9813\n",
      "Epoch 7/20\n",
      "60000/60000 [==============================] - 5s 86us/step - loss: 0.0213 - accuracy: 0.9938 - val_loss: 0.0796 - val_accuracy: 0.9782\n",
      "Epoch 8/20\n",
      "60000/60000 [==============================] - 5s 86us/step - loss: 0.0167 - accuracy: 0.9952 - val_loss: 0.0796 - val_accuracy: 0.9785\n",
      "Epoch 9/20\n",
      "60000/60000 [==============================] - 5s 86us/step - loss: 0.0132 - accuracy: 0.9962 - val_loss: 0.0697 - val_accuracy: 0.9805\n",
      "Epoch 10/20\n",
      "60000/60000 [==============================] - 5s 88us/step - loss: 0.0096 - accuracy: 0.9973 - val_loss: 0.0730 - val_accuracy: 0.9808\n",
      "Epoch 11/20\n",
      "60000/60000 [==============================] - 5s 88us/step - loss: 0.0077 - accuracy: 0.9980 - val_loss: 0.0747 - val_accuracy: 0.9810\n",
      "Epoch 12/20\n",
      "60000/60000 [==============================] - 5s 90us/step - loss: 0.0059 - accuracy: 0.9985 - val_loss: 0.0774 - val_accuracy: 0.9803\n",
      "Epoch 13/20\n",
      "60000/60000 [==============================] - 5s 86us/step - loss: 0.0049 - accuracy: 0.9988 - val_loss: 0.0904 - val_accuracy: 0.9791\n",
      "Epoch 14/20\n",
      "60000/60000 [==============================] - 5s 86us/step - loss: 0.0036 - accuracy: 0.9991 - val_loss: 0.0765 - val_accuracy: 0.9822\n",
      "Epoch 15/20\n",
      "60000/60000 [==============================] - 5s 89us/step - loss: 0.0029 - accuracy: 0.9992 - val_loss: 0.0805 - val_accuracy: 0.9820\n",
      "Epoch 16/20\n",
      "60000/60000 [==============================] - 5s 86us/step - loss: 0.0024 - accuracy: 0.9993 - val_loss: 0.0795 - val_accuracy: 0.9844\n",
      "Epoch 17/20\n",
      "60000/60000 [==============================] - 5s 88us/step - loss: 0.0020 - accuracy: 0.9995 - val_loss: 0.0826 - val_accuracy: 0.9834\n",
      "Epoch 18/20\n",
      "60000/60000 [==============================] - 6s 92us/step - loss: 0.0014 - accuracy: 0.9996 - val_loss: 0.0858 - val_accuracy: 0.9826\n",
      "Epoch 19/20\n",
      "60000/60000 [==============================] - 5s 90us/step - loss: 0.0012 - accuracy: 0.9996 - val_loss: 0.1021 - val_accuracy: 0.9802\n",
      "Epoch 20/20\n",
      "60000/60000 [==============================] - 6s 92us/step - loss: 0.0010 - accuracy: 0.9997 - val_loss: 0.0978 - val_accuracy: 0.9823\n"
     ]
    }
   ],
   "source": [
    "nnt = models.Sequential()\n",
    "nnt.add(layers.Dense(512, activation = 'relu', input_shape = (28 * 28,))) \n",
    "nnt.add(layers.Dense(10, activation = 'softmax'))\n",
    "nnt.compile(optimizer = 'rmsprop', loss = 'categorical_crossentropy', metrics = ['accuracy'])\n",
    "history = nnt.fit(train, trainl, epochs = 20, batch_size = 128, validation_data = (test, testl))\n",
    "                                       # validation_data does the work of the .evaluate function"
   ]
  },
  {
   "cell_type": "code",
   "execution_count": null,
   "metadata": {},
   "outputs": [],
   "source": []
  }
 ],
 "metadata": {
  "kernelspec": {
   "display_name": "Python 3",
   "language": "python",
   "name": "python3"
  },
  "language_info": {
   "codemirror_mode": {
    "name": "ipython",
    "version": 3
   },
   "file_extension": ".py",
   "mimetype": "text/x-python",
   "name": "python",
   "nbconvert_exporter": "python",
   "pygments_lexer": "ipython3",
   "version": "3.7.4"
  }
 },
 "nbformat": 4,
 "nbformat_minor": 2
}
