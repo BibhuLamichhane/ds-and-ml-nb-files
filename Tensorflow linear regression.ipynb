{
 "cells": [
  {
   "cell_type": "code",
   "execution_count": 1,
   "metadata": {},
   "outputs": [],
   "source": [
    "import tensorflow as  tf\n",
    "import numpy as np\n",
    "import matplotlib.pyplot as plt\n",
    "import pandas as pd"
   ]
  },
  {
   "cell_type": "code",
   "execution_count": 2,
   "metadata": {},
   "outputs": [],
   "source": [
    "data = pd.read_csv('linear_regression.csv', header = None).values"
   ]
  },
  {
   "cell_type": "code",
   "execution_count": 3,
   "metadata": {},
   "outputs": [],
   "source": [
    "x = data[:, 0]\n",
    "y = data[:, 1]"
   ]
  },
  {
   "cell_type": "code",
   "execution_count": 4,
   "metadata": {},
   "outputs": [
    {
     "data": {
      "text/plain": [
       "[<matplotlib.lines.Line2D at 0x2cb76018808>]"
      ]
     },
     "execution_count": 4,
     "metadata": {},
     "output_type": "execute_result"
    },
    {
     "data": {
      "image/png": "[encoded data removed]",
      "text/plain": [
       "<Figure size 432x288 with 1 Axes>"
      ]
     },
     "metadata": {
      "needs_background": "light"
     },
     "output_type": "display_data"
    }
   ],
   "source": [
    "plt.plot(x, y)"
   ]
  },
  {
   "cell_type": "markdown",
   "metadata": {},
   "source": [
   ]
  },
  {
   "cell_type": "code",
   "execution_count": 5,
   "metadata": {},
   "outputs": [
    {
     "data": {
      "text/plain": [
       "[<matplotlib.lines.Line2D at 0x2cb763a7608>]"
      ]
     },
     "execution_count": 5,
     "metadata": {},
     "output_type": "execute_result"
    },
    {
     "data": {
      "image/png": "[encoded data removed]",
      "text/plain": [
       "<Figure size 432x288 with 1 Axes>"
      ]
     },
     "metadata": {
      "needs_background": "light"
     },
     "output_type": "display_data"
    }
   ],
   "source": [
    "y = np.log(y)\n",
    "plt.plot(x, y)"
   ]
  },
  {
   "cell_type": "code",
   "execution_count": 6,
   "metadata": {},
   "outputs": [],
   "source": [
    "x = x - x.mean()"
   ]
  },
  {
   "cell_type": "code",
   "execution_count": 7,
   "metadata": {},
   "outputs": [],
   "source": [
    "model = tf.keras.models.Sequential()"
   ]
  },
  {
   "cell_type": "code",
   "execution_count": 8,
   "metadata": {},
   "outputs": [],
   "source": [
    "model.add(tf.keras.layers.Dense(1, input_shape= (1, )))"
   ]
  },
  {
   "cell_type": "code",
   "execution_count": 9,
   "metadata": {},
   "outputs": [],
   "source": [
    "model.compile(loss = 'mse', optimizer = tf.keras.optimizers.SGD(0.001, 0.9))"
   ]
  },
  {
   "cell_type": "markdown",
   "metadata": {},
   "source": [
   ]
  },
  {
   "cell_type": "code",
   "execution_count": 10,
   "metadata": {},
   "outputs": [],
   "source": [
    "def schedule(epochs, lr): # lr is learning rate\n",
    "    if epochs >= 50 :\n",
    "        return 0.0001\n",
    "    return 0.001\n",
    "# returns learning rate"
   ]
  },
  {
   "cell_type": "code",
   "execution_count": 11,
   "metadata": {},
   "outputs": [],
   "source": [
    "scheduler = tf.keras.callbacks.LearningRateScheduler(schedule)"
   ]
  },
  {
   "cell_type": "code",
   "execution_count": 12,
   "metadata": {},
   "outputs": [
    {
     "name": "stdout",
     "output_type": "stream",
     "text": [
      "Train on 162 samples\n",
      "Epoch 1/200\n",
      "162/162 [==============================] - 0s 2ms/sample - loss: 343.2355\n",
      "Epoch 2/200\n",
      "162/162 [==============================] - 0s 99us/sample - loss: 368.2122\n",
      "Epoch 3/200\n",
      "162/162 [==============================] - 0s 98us/sample - loss: 335.7046\n",
      "Epoch 4/200\n",
      "162/162 [==============================] - 0s 74us/sample - loss: 205.5127\n",
      "Epoch 5/200\n",
      "162/162 [==============================] - 0s 92us/sample - loss: 183.2165\n",
      "Epoch 6/200\n",
      "162/162 [==============================] - 0s 105us/sample - loss: 149.4371\n",
      "Epoch 7/200\n",
      "162/162 [==============================] - 0s 111us/sample - loss: 106.1348\n",
      "Epoch 8/200\n",
      "162/162 [==============================] - 0s 62us/sample - loss: 125.6173\n",
      "Epoch 9/200\n",
      "162/162 [==============================] - 0s 111us/sample - loss: 82.2514\n",
      "Epoch 10/200\n",
      "162/162 [==============================] - ETA: 0s - loss: 97.36 - 0s 105us/sample - loss: 72.4204\n",
      "Epoch 11/200\n",
      "162/162 [==============================] - 0s 98us/sample - loss: 40.9626\n",
      "Epoch 12/200\n",
      "162/162 [==============================] - 0s 55us/sample - loss: 29.2167\n",
      "Epoch 13/200\n",
      "162/162 [==============================] - 0s 105us/sample - loss: 16.7602\n",
      "Epoch 14/200\n",
      "162/162 [==============================] - 0s 92us/sample - loss: 10.7581\n",
      "Epoch 15/200\n",
      "162/162 [==============================] - 0s 92us/sample - loss: 8.8782\n",
      "Epoch 16/200\n",
      "162/162 [==============================] - 0s 80us/sample - loss: 6.5317\n",
      "Epoch 17/200\n",
      "162/162 [==============================] - 0s 92us/sample - loss: 4.4882\n",
      "Epoch 18/200\n",
      "162/162 [==============================] - 0s 99us/sample - loss: 3.4200\n",
      "Epoch 19/200\n",
      "162/162 [==============================] - 0s 92us/sample - loss: 2.7603\n",
      "Epoch 20/200\n",
      "162/162 [==============================] - 0s 135us/sample - loss: 2.5203\n",
      "Epoch 21/200\n",
      "162/162 [==============================] - 0s 49us/sample - loss: 1.8386\n",
      "Epoch 22/200\n",
      "162/162 [==============================] - 0s 74us/sample - loss: 1.5589\n",
      "Epoch 23/200\n",
      "162/162 [==============================] - 0s 99us/sample - loss: 1.3418\n",
      "Epoch 24/200\n",
      "162/162 [==============================] - 0s 105us/sample - loss: 1.2202\n",
      "Epoch 25/200\n",
      "162/162 [==============================] - 0s 99us/sample - loss: 1.1989\n",
      "Epoch 26/200\n",
      "162/162 [==============================] - 0s 111us/sample - loss: 1.1230\n",
      "Epoch 27/200\n",
      "162/162 [==============================] - 0s 92us/sample - loss: 1.0578\n",
      "Epoch 28/200\n",
      "162/162 [==============================] - 0s 92us/sample - loss: 1.2931\n",
      "Epoch 29/200\n",
      "162/162 [==============================] - 0s 98us/sample - loss: 1.6576\n",
      "Epoch 30/200\n",
      "162/162 [==============================] - 0s 92us/sample - loss: 1.1562\n",
      "Epoch 31/200\n",
      "162/162 [==============================] - 0s 68us/sample - loss: 0.9770\n",
      "Epoch 32/200\n",
      "162/162 [==============================] - 0s 49us/sample - loss: 0.9094\n",
      "Epoch 33/200\n",
      "162/162 [==============================] - 0s 49us/sample - loss: 0.9053\n",
      "Epoch 34/200\n",
      "162/162 [==============================] - 0s 49us/sample - loss: 0.9158\n",
      "Epoch 35/200\n",
      "162/162 [==============================] - 0s 49us/sample - loss: 0.8958\n",
      "Epoch 36/200\n",
      "162/162 [==============================] - 0s 86us/sample - loss: 0.9315\n",
      "Epoch 37/200\n",
      "162/162 [==============================] - 0s 111us/sample - loss: 0.9912\n",
      "Epoch 38/200\n",
      "162/162 [==============================] - 0s 80us/sample - loss: 1.0881\n",
      "Epoch 39/200\n",
      "162/162 [==============================] - 0s 92us/sample - loss: 0.9242\n",
      "Epoch 40/200\n",
      "162/162 [==============================] - 0s 92us/sample - loss: 1.0984\n",
      "Epoch 41/200\n",
      "162/162 [==============================] - 0s 68us/sample - loss: 0.9212\n",
      "Epoch 42/200\n",
      "162/162 [==============================] - 0s 105us/sample - loss: 0.9666\n",
      "Epoch 43/200\n",
      "162/162 [==============================] - 0s 86us/sample - loss: 0.9451\n",
      "Epoch 44/200\n",
      "162/162 [==============================] - 0s 80us/sample - loss: 0.8793\n",
      "Epoch 45/200\n",
      "162/162 [==============================] - 0s 105us/sample - loss: 0.9092\n",
      "Epoch 46/200\n",
      "162/162 [==============================] - 0s 117us/sample - loss: 0.9278\n",
      "Epoch 47/200\n",
      "162/162 [==============================] - 0s 68us/sample - loss: 1.0905\n",
      "Epoch 48/200\n",
      "162/162 [==============================] - 0s 49us/sample - loss: 0.9031\n",
      "Epoch 49/200\n",
      "162/162 [==============================] - 0s 62us/sample - loss: 0.9318\n",
      "Epoch 50/200\n",
      "162/162 [==============================] - 0s 55us/sample - loss: 0.9747\n",
      "Epoch 51/200\n",
      "162/162 [==============================] - 0s 74us/sample - loss: 0.8698\n",
      "Epoch 52/200\n",
      "162/162 [==============================] - 0s 62us/sample - loss: 0.8842\n",
      "Epoch 53/200\n",
      "162/162 [==============================] - 0s 105us/sample - loss: 0.8831\n",
      "Epoch 54/200\n",
      "162/162 [==============================] - 0s 98us/sample - loss: 0.8810\n",
      "Epoch 55/200\n",
      "162/162 [==============================] - 0s 92us/sample - loss: 0.8780\n",
      "Epoch 56/200\n",
      "162/162 [==============================] - 0s 99us/sample - loss: 0.8714\n",
      "Epoch 57/200\n",
      "162/162 [==============================] - 0s 105us/sample - loss: 0.8721\n",
      "Epoch 58/200\n",
      "162/162 [==============================] - 0s 43us/sample - loss: 0.8719\n",
      "Epoch 59/200\n",
      "162/162 [==============================] - 0s 49us/sample - loss: 0.8745\n",
      "Epoch 60/200\n",
      "162/162 [==============================] - 0s 49us/sample - loss: 0.8771\n",
      "Epoch 61/200\n",
      "162/162 [==============================] - 0s 55us/sample - loss: 0.8722\n",
      "Epoch 62/200\n",
      "162/162 [==============================] - 0s 80us/sample - loss: 0.8707\n",
      "Epoch 63/200\n",
      "162/162 [==============================] - 0s 80us/sample - loss: 0.8794\n",
      "Epoch 64/200\n",
      "162/162 [==============================] - 0s 62us/sample - loss: 0.8864\n",
      "Epoch 65/200\n",
      "162/162 [==============================] - 0s 49us/sample - loss: 0.8750\n",
      "Epoch 66/200\n",
      "162/162 [==============================] - 0s 99us/sample - loss: 0.8752\n",
      "Epoch 67/200\n",
      "162/162 [==============================] - 0s 49us/sample - loss: 0.8717\n",
      "Epoch 68/200\n",
      "162/162 [==============================] - 0s 49us/sample - loss: 0.8714\n",
      "Epoch 69/200\n",
      "162/162 [==============================] - 0s 61us/sample - loss: 0.9049\n",
      "Epoch 70/200\n",
      "162/162 [==============================] - 0s 92us/sample - loss: 0.9025\n",
      "Epoch 71/200\n",
      "162/162 [==============================] - 0s 98us/sample - loss: 0.8797\n",
      "Epoch 72/200\n",
      "162/162 [==============================] - 0s 80us/sample - loss: 0.9448\n",
      "Epoch 73/200\n",
      "162/162 [==============================] - 0s 74us/sample - loss: 0.8905\n",
      "Epoch 74/200\n",
      "162/162 [==============================] - 0s 92us/sample - loss: 0.8732\n",
      "Epoch 75/200\n",
      "162/162 [==============================] - 0s 117us/sample - loss: 0.9105\n",
      "Epoch 76/200\n",
      "162/162 [==============================] - 0s 136us/sample - loss: 0.8796\n",
      "Epoch 77/200\n",
      "162/162 [==============================] - 0s 92us/sample - loss: 0.8869\n",
      "Epoch 78/200\n",
      "162/162 [==============================] - 0s 92us/sample - loss: 0.8783\n",
      "Epoch 79/200\n",
      "162/162 [==============================] - 0s 105us/sample - loss: 0.8814\n",
      "Epoch 80/200\n",
      "162/162 [==============================] - 0s 80us/sample - loss: 0.8849\n",
      "Epoch 81/200\n",
      "162/162 [==============================] - 0s 86us/sample - loss: 0.8800\n",
      "Epoch 82/200\n",
      "162/162 [==============================] - 0s 74us/sample - loss: 0.8730\n",
      "Epoch 83/200\n",
      "162/162 [==============================] - 0s 74us/sample - loss: 0.8820\n",
      "Epoch 84/200\n",
      "162/162 [==============================] - 0s 68us/sample - loss: 0.8772\n",
      "Epoch 85/200\n",
      "162/162 [==============================] - 0s 62us/sample - loss: 0.8762\n",
      "Epoch 86/200\n",
      "162/162 [==============================] - 0s 49us/sample - loss: 0.8740\n",
      "Epoch 87/200\n",
      "162/162 [==============================] - 0s 49us/sample - loss: 0.8778\n",
      "Epoch 88/200\n",
      "162/162 [==============================] - 0s 80us/sample - loss: 0.8696\n",
      "Epoch 89/200\n",
      "162/162 [==============================] - 0s 86us/sample - loss: 0.8799\n",
      "Epoch 90/200\n",
      "162/162 [==============================] - 0s 92us/sample - loss: 0.8745\n",
      "Epoch 91/200\n",
      "162/162 [==============================] - 0s 68us/sample - loss: 0.8726\n",
      "Epoch 92/200\n",
      "162/162 [==============================] - 0s 55us/sample - loss: 0.8797\n",
      "Epoch 93/200\n",
      "162/162 [==============================] - 0s 49us/sample - loss: 0.8912\n",
      "Epoch 94/200\n",
      "162/162 [==============================] - 0s 74us/sample - loss: 0.9621\n",
      "Epoch 95/200\n",
      "162/162 [==============================] - 0s 74us/sample - loss: 0.9298\n",
      "Epoch 96/200\n",
      "162/162 [==============================] - 0s 92us/sample - loss: 0.8620\n",
      "Epoch 97/200\n",
      "162/162 [==============================] - 0s 74us/sample - loss: 0.8854\n",
      "Epoch 98/200\n",
      "162/162 [==============================] - 0s 92us/sample - loss: 0.8744\n",
      "Epoch 99/200\n",
      "162/162 [==============================] - 0s 68us/sample - loss: 0.8740\n",
      "Epoch 100/200\n",
      "162/162 [==============================] - 0s 55us/sample - loss: 0.8769\n",
      "Epoch 101/200\n",
      "162/162 [==============================] - 0s 62us/sample - loss: 0.8791\n",
      "Epoch 102/200\n",
      "162/162 [==============================] - 0s 74us/sample - loss: 0.9176\n",
      "Epoch 103/200\n",
      "162/162 [==============================] - 0s 68us/sample - loss: 0.9140\n",
      "Epoch 104/200\n",
      "162/162 [==============================] - 0s 99us/sample - loss: 0.8666\n",
      "Epoch 105/200\n",
      "162/162 [==============================] - 0s 99us/sample - loss: 0.9088\n",
      "Epoch 106/200\n",
      "162/162 [==============================] - 0s 92us/sample - loss: 0.9289\n",
      "Epoch 107/200\n",
      "162/162 [==============================] - 0s 92us/sample - loss: 0.8978\n",
      "Epoch 108/200\n",
      "162/162 [==============================] - 0s 105us/sample - loss: 0.8741\n",
      "Epoch 109/200\n",
      "162/162 [==============================] - 0s 105us/sample - loss: 0.8789\n",
      "Epoch 110/200\n",
      "162/162 [==============================] - 0s 62us/sample - loss: 0.9196\n",
      "Epoch 111/200\n",
      "162/162 [==============================] - 0s 86us/sample - loss: 0.8885\n",
      "Epoch 112/200\n",
      "162/162 [==============================] - 0s 92us/sample - loss: 0.9202\n",
      "Epoch 113/200\n",
      "162/162 [==============================] - 0s 92us/sample - loss: 0.9054\n",
      "Epoch 114/200\n",
      "162/162 [==============================] - 0s 98us/sample - loss: 0.8771\n",
      "Epoch 115/200\n",
      "162/162 [==============================] - 0s 80us/sample - loss: 0.8819\n",
      "Epoch 116/200\n",
      "162/162 [==============================] - 0s 74us/sample - loss: 0.8749\n",
      "Epoch 117/200\n",
      "162/162 [==============================] - 0s 68us/sample - loss: 0.8766\n",
      "Epoch 118/200\n",
      "162/162 [==============================] - 0s 74us/sample - loss: 0.8733\n",
      "Epoch 119/200\n",
      "162/162 [==============================] - 0s 68us/sample - loss: 0.8779\n",
      "Epoch 120/200\n",
      "162/162 [==============================] - 0s 99us/sample - loss: 0.8767\n",
      "Epoch 121/200\n",
      "162/162 [==============================] - 0s 99us/sample - loss: 0.8730\n",
      "Epoch 122/200\n",
      "162/162 [==============================] - 0s 80us/sample - loss: 0.8736\n",
      "Epoch 123/200\n",
      "162/162 [==============================] - 0s 92us/sample - loss: 0.8709\n",
      "Epoch 124/200\n",
      "162/162 [==============================] - 0s 111us/sample - loss: 0.8725\n",
      "Epoch 125/200\n",
      "162/162 [==============================] - 0s 191us/sample - loss: 0.8719\n",
      "Epoch 126/200\n",
      "162/162 [==============================] - 0s 99us/sample - loss: 0.8714\n",
      "Epoch 127/200\n",
      "162/162 [==============================] - 0s 61us/sample - loss: 0.8732\n",
      "Epoch 128/200\n",
      "162/162 [==============================] - 0s 62us/sample - loss: 0.8739\n",
      "Epoch 129/200\n",
      "162/162 [==============================] - 0s 105us/sample - loss: 0.8721\n",
      "Epoch 130/200\n",
      "162/162 [==============================] - 0s 99us/sample - loss: 0.8952\n",
      "Epoch 131/200\n",
      "162/162 [==============================] - 0s 99us/sample - loss: 0.8827\n",
      "Epoch 132/200\n",
      "162/162 [==============================] - 0s 74us/sample - loss: 0.9282\n",
      "Epoch 133/200\n",
      "162/162 [==============================] - 0s 49us/sample - loss: 0.8857\n",
      "Epoch 134/200\n",
      "162/162 [==============================] - 0s 68us/sample - loss: 0.8686\n",
      "Epoch 135/200\n",
      "162/162 [==============================] - 0s 62us/sample - loss: 0.8803\n",
      "Epoch 136/200\n",
      "162/162 [==============================] - 0s 62us/sample - loss: 0.8718\n",
      "Epoch 137/200\n",
      "162/162 [==============================] - 0s 68us/sample - loss: 0.8832\n",
      "Epoch 138/200\n",
      "162/162 [==============================] - 0s 74us/sample - loss: 0.8715\n",
      "Epoch 139/200\n",
      "162/162 [==============================] - 0s 80us/sample - loss: 0.8717\n",
      "Epoch 140/200\n",
      "162/162 [==============================] - 0s 80us/sample - loss: 0.8715\n",
      "Epoch 141/200\n",
      "162/162 [==============================] - 0s 62us/sample - loss: 0.8735\n",
      "Epoch 142/200\n",
      "162/162 [==============================] - 0s 43us/sample - loss: 0.8736\n",
      "Epoch 143/200\n",
      "162/162 [==============================] - 0s 92us/sample - loss: 0.8709\n",
      "Epoch 144/200\n",
      "162/162 [==============================] - 0s 62us/sample - loss: 0.8744\n",
      "Epoch 145/200\n",
      "162/162 [==============================] - 0s 68us/sample - loss: 0.8724\n",
      "Epoch 146/200\n",
      "162/162 [==============================] - 0s 80us/sample - loss: 0.8756\n",
      "Epoch 147/200\n",
      "162/162 [==============================] - 0s 86us/sample - loss: 0.8661\n",
      "Epoch 148/200\n",
      "162/162 [==============================] - 0s 80us/sample - loss: 0.8843\n",
      "Epoch 149/200\n",
      "162/162 [==============================] - 0s 56us/sample - loss: 0.8776\n",
      "Epoch 150/200\n",
      "162/162 [==============================] - 0s 49us/sample - loss: 0.8691\n",
      "Epoch 151/200\n",
      "162/162 [==============================] - 0s 80us/sample - loss: 0.8893\n",
      "Epoch 152/200\n",
      "162/162 [==============================] - 0s 74us/sample - loss: 0.8984\n",
      "Epoch 153/200\n",
      "162/162 [==============================] - 0s 74us/sample - loss: 0.8564\n",
      "Epoch 154/200\n",
      "162/162 [==============================] - 0s 92us/sample - loss: 0.9039\n",
      "Epoch 155/200\n",
      "162/162 [==============================] - 0s 80us/sample - loss: 0.8855\n",
      "Epoch 156/200\n",
      "162/162 [==============================] - 0s 43us/sample - loss: 0.8706\n",
      "Epoch 157/200\n",
      "162/162 [==============================] - 0s 55us/sample - loss: 0.8786\n",
      "Epoch 158/200\n",
      "162/162 [==============================] - 0s 74us/sample - loss: 0.8750\n",
      "Epoch 159/200\n",
      "162/162 [==============================] - ETA: 0s - loss: 0.308 - 0s 80us/sample - loss: 0.8711\n",
      "Epoch 160/200\n",
      "162/162 [==============================] - 0s 86us/sample - loss: 0.8709\n",
      "Epoch 161/200\n",
      "162/162 [==============================] - 0s 80us/sample - loss: 0.8739\n",
      "Epoch 162/200\n",
      "162/162 [==============================] - 0s 49us/sample - loss: 0.8725\n",
      "Epoch 163/200\n",
      "162/162 [==============================] - 0s 62us/sample - loss: 0.8757\n",
      "Epoch 164/200\n",
      "162/162 [==============================] - 0s 74us/sample - loss: 0.8825\n",
      "Epoch 165/200\n",
      "162/162 [==============================] - 0s 80us/sample - loss: 0.8714\n",
      "Epoch 166/200\n",
      "162/162 [==============================] - 0s 74us/sample - loss: 0.8729\n",
      "Epoch 167/200\n",
      "162/162 [==============================] - 0s 49us/sample - loss: 0.8711\n",
      "Epoch 168/200\n",
      "162/162 [==============================] - 0s 43us/sample - loss: 0.8770\n",
      "Epoch 169/200\n",
      "162/162 [==============================] - 0s 74us/sample - loss: 0.8771\n",
      "Epoch 170/200\n",
      "162/162 [==============================] - 0s 80us/sample - loss: 0.8869\n",
      "Epoch 171/200\n",
      "162/162 [==============================] - 0s 68us/sample - loss: 0.8649\n",
      "Epoch 172/200\n",
      "162/162 [==============================] - 0s 43us/sample - loss: 0.8794\n",
      "Epoch 173/200\n",
      "162/162 [==============================] - 0s 62us/sample - loss: 0.8773\n",
      "Epoch 174/200\n",
      "162/162 [==============================] - 0s 74us/sample - loss: 0.8769\n",
      "Epoch 175/200\n",
      "162/162 [==============================] - 0s 80us/sample - loss: 0.8727\n",
      "Epoch 176/200\n",
      "162/162 [==============================] - 0s 74us/sample - loss: 0.8715\n",
      "Epoch 177/200\n",
      "162/162 [==============================] - 0s 62us/sample - loss: 0.8919\n",
      "Epoch 178/200\n",
      "162/162 [==============================] - 0s 43us/sample - loss: 0.9158\n",
      "Epoch 179/200\n",
      "162/162 [==============================] - 0s 80us/sample - loss: 0.8779\n",
      "Epoch 180/200\n",
      "162/162 [==============================] - 0s 80us/sample - loss: 0.8702\n",
      "Epoch 181/200\n",
      "162/162 [==============================] - 0s 68us/sample - loss: 0.8712\n",
      "Epoch 182/200\n",
      "162/162 [==============================] - 0s 43us/sample - loss: 0.8704\n",
      "Epoch 183/200\n",
      "162/162 [==============================] - 0s 49us/sample - loss: 0.8707\n",
      "Epoch 184/200\n",
      "162/162 [==============================] - 0s 74us/sample - loss: 0.8719\n",
      "Epoch 185/200\n",
      "162/162 [==============================] - 0s 74us/sample - loss: 0.8722\n",
      "Epoch 186/200\n",
      "162/162 [==============================] - 0s 74us/sample - loss: 0.8715\n",
      "Epoch 187/200\n",
      "162/162 [==============================] - 0s 55us/sample - loss: 0.8738\n",
      "Epoch 188/200\n",
      "162/162 [==============================] - 0s 49us/sample - loss: 0.8749\n",
      "Epoch 189/200\n"
     ]
    },
    {
     "name": "stdout",
     "output_type": "stream",
     "text": [
      "162/162 [==============================] - 0s 55us/sample - loss: 0.9007\n",
      "Epoch 190/200\n",
      "162/162 [==============================] - 0s 80us/sample - loss: 0.8852\n",
      "Epoch 191/200\n",
      "162/162 [==============================] - 0s 74us/sample - loss: 0.8754\n",
      "Epoch 192/200\n",
      "162/162 [==============================] - 0s 68us/sample - loss: 0.8678\n",
      "Epoch 193/200\n",
      "162/162 [==============================] - 0s 43us/sample - loss: 0.9189\n",
      "Epoch 194/200\n",
      "162/162 [==============================] - 0s 68us/sample - loss: 0.9095\n",
      "Epoch 195/200\n",
      "162/162 [==============================] - 0s 62us/sample - loss: 0.8706\n",
      "Epoch 196/200\n",
      "162/162 [==============================] - 0s 86us/sample - loss: 0.8704\n",
      "Epoch 197/200\n",
      "162/162 [==============================] - 0s 86us/sample - loss: 0.8727\n",
      "Epoch 198/200\n",
      "162/162 [==============================] - 0s 80us/sample - loss: 0.8744\n",
      "Epoch 199/200\n",
      "162/162 [==============================] - 0s 86us/sample - loss: 0.8721\n",
      "Epoch 200/200\n",
      "162/162 [==============================] - 0s 68us/sample - loss: 0.8844\n"
     ]
    }
   ],
   "source": [
    "r = model.fit(x, y, epochs = 200, callbacks = [scheduler])"
   ]
  },
  {
   "cell_type": "code",
   "execution_count": 13,
   "metadata": {},
   "outputs": [
    {
     "data": {
      "text/plain": [
       "[<matplotlib.lines.Line2D at 0x2cb7661b908>]"
      ]
     },
     "execution_count": 13,
     "metadata": {},
     "output_type": "execute_result"
    },
    {
     "data": {
      "image/png": "[encoded data removed]",
      "text/plain": [
       "<Figure size 432x288 with 1 Axes>"
      ]
     },
     "metadata": {
      "needs_background": "light"
     },
     "output_type": "display_data"
    }
   ],
   "source": [
    "plt.plot(r.history['loss'])"
   ]
  },
  {
   "cell_type": "code",
   "execution_count": 14,
   "metadata": {},
   "outputs": [],
   "source": [
   ]
  },
  {
   "cell_type": "code",
   "execution_count": 15,
   "metadata": {},
   "outputs": [],
   "source": [
    "slope = model.layers[0].get_weights()[0]"
   ]
  },
  {
   "cell_type": "code",
   "execution_count": 16,
   "metadata": {},
   "outputs": [
    {
     "data": {
      "text/plain": [
       "array([[0.35924843]], dtype=float32)"
      ]
     },
     "execution_count": 16,
     "metadata": {},
     "output_type": "execute_result"
    }
   ],
   "source": [
    "slope"
   ]
  },
  {
   "cell_type": "code",
   "execution_count": 17,
   "metadata": {},
   "outputs": [],
   "source": [
   ]
  },
  {
   "cell_type": "code",
   "execution_count": 18,
   "metadata": {},
   "outputs": [
    {
     "data": {
      "text/plain": [
       "[<matplotlib.lines.Line2D at 0x2cb7666cdc8>]"
      ]
     },
     "execution_count": 18,
     "metadata": {},
     "output_type": "execute_result"
    },
    {
     "data": {
      "image/png": "[encoded data removed]",
      "text/plain": [
       "<Figure size 432x288 with 1 Axes>"
      ]
     },
     "metadata": {
      "needs_background": "light"
     },
     "output_type": "display_data"
    }
   ],
   "source": [
    "yh = model.predict(x).flatten()\n",
    "plt.scatter(x, y)\n",
    "plt.plot(x, yh)"
   ]
  },
  {
   "cell_type": "code",
   "execution_count": 19,
   "metadata": {},
   "outputs": [],
   "source": [
    "m, c = model.layers[0].get_weights()"
   ]
  },
  {
   "cell_type": "code",
   "execution_count": 20,
   "metadata": {},
   "outputs": [
    {
     "data": {
      "text/plain": [
       "True"
      ]
     },
     "execution_count": 20,
     "metadata": {},
     "output_type": "execute_result"
    }
   ],
   "source": [
    "x = x.reshape(-1, 1)\n",
    "Y = x.dot(m) + c\n",
    "Y = Y.flatten()\n",
    "np.allclose(Y, yh)"
   ]
  },
  {
   "cell_type": "code",
   "execution_count": null,
   "metadata": {},
   "outputs": [],
   "source": []
  }
 ],
 "metadata": {
  "kernelspec": {
   "display_name": "Python 3",
   "language": "python",
   "name": "python3"
  },
  "language_info": {
   "codemirror_mode": {
    "name": "ipython",
    "version": 3
   },
   "file_extension": ".py",
   "mimetype": "text/x-python",
   "name": "python",
   "nbconvert_exporter": "python",
   "pygments_lexer": "ipython3",
   "version": "3.7.4"
  }
 },
 "nbformat": 4,
 "nbformat_minor": 2
}
